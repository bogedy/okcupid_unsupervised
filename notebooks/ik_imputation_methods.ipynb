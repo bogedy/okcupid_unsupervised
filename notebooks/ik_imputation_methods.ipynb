{
 "cells": [
  {
   "cell_type": "code",
   "execution_count": 2,
   "metadata": {},
   "outputs": [],
   "source": [
    "import pandas as pd\n",
    "\n",
    "raw_df = pd.read_feather(\"../data/data.feather\")\n",
    "test_items_df = pd.read_csv(\"../data/test_items.csv\",index_col=0)\n",
    "question_data = pd.read_csv(\"../data/question_data.csv\", sep=';', index_col=0)"
   ]
  },
  {
   "cell_type": "code",
   "execution_count": 3,
   "metadata": {},
   "outputs": [],
   "source": [
    "test_item_qs = [item for item in test_items_df.index if item in raw_df.columns]"
   ]
  },
  {
   "cell_type": "code",
   "execution_count": 4,
   "metadata": {},
   "outputs": [],
   "source": [
    "q_df = raw_df.drop(columns=test_item_qs)\n",
    "q_df = q_df.filter(regex=r'^q\\d+$')"
   ]
  },
  {
   "cell_type": "code",
   "execution_count": 5,
   "metadata": {},
   "outputs": [],
   "source": [
    "# drop the lowest response q's\n",
    "N_DROP = 2000\n",
    "low_response = [col for col in question_data.sort_values('N').iloc[:N_DROP].index if col in q_df.columns]\n",
    "q_df = q_df.drop(columns=low_response)"
   ]
  },
  {
   "cell_type": "code",
   "execution_count": 6,
   "metadata": {},
   "outputs": [],
   "source": [
    "# sort by number of categories for easier manipulation later\n",
    "sorted_num_levels = q_df.apply(lambda x: len(x.cat.categories)).sort_values()\n",
    "q_df = q_df[sorted_num_levels.index]"
   ]
  },
  {
   "cell_type": "code",
   "execution_count": 7,
   "metadata": {},
   "outputs": [
    {
     "name": "stdout",
     "output_type": "stream",
     "text": [
      "Border indices where level count changes: [np.int64(252), np.int64(392)]\n",
      "Levels at borders: [3 4]\n"
     ]
    }
   ],
   "source": [
    "# Get the number of unique levels per column\n",
    "num_levels = q_df.nunique()\n",
    "\n",
    "# Sort columns by unique levels\n",
    "sorted_num_levels = num_levels.sort_values()\n",
    "\n",
    "# Find the indices where the level count changes\n",
    "level_counts = sorted_num_levels.values\n",
    "diff = level_counts[1:] != level_counts[:-1]\n",
    "border_indices = list(diff.nonzero()[0] + 1)  # +1 because diff is between elements\n",
    "\n",
    "# For example, print the borders and corresponding levels\n",
    "print(\"Border indices where level count changes:\", border_indices)\n",
    "print(\"Levels at borders:\", level_counts[border_indices])\n",
    "\n",
    "# You can use these indices to split the sorted columns into dfs as needed"
   ]
  },
  {
   "cell_type": "code",
   "execution_count": 8,
   "metadata": {},
   "outputs": [],
   "source": [
    "import numpy as np\n",
    "\n",
    "non_nan = ~q_df.isna()\n",
    "non_nan_indices = np.flatnonzero(non_nan.values)\n",
    "\n",
    "np.random.seed(0)\n",
    "TEST_SIZE = 0.2\n",
    "test_size = int(len(non_nan_indices) * TEST_SIZE)\n",
    "test_mask_flat = np.random.choice(non_nan_indices, size=test_size, replace=False)\n",
    "\n",
    "test_mask = np.zeros_like(q_df.values, dtype=bool)\n",
    "test_mask.flat[test_mask_flat] = True\n",
    "\n",
    "# mask some cells that serve as our test set\n",
    "df_masked = q_df.mask(test_mask)\n"
   ]
  },
  {
   "cell_type": "code",
   "execution_count": 9,
   "metadata": {},
   "outputs": [],
   "source": [
    "from sklearn.compose import ColumnTransformer\n",
    "from sklearn.preprocessing import OneHotEncoder\n",
    "\n",
    "preprocessor = ColumnTransformer(\n",
    "    transformers=[\n",
    "        ('onehot', OneHotEncoder(sparse_output=True, handle_unknown='ignore'), q_df.columns),\n",
    "    ],\n",
    "    sparse_threshold=1.0\n",
    ")\n",
    "\n",
    "def transform_and_drop(df):\n",
    "    X = preprocessor.fit_transform(df)\n",
    "\n",
    "    # the sklearn onehot encoder doesn't have an option to not encode nans\n",
    "    feature_names = preprocessor.get_feature_names_out()\n",
    "    cols_to_keep = [i for i, name in enumerate(feature_names) if not name.endswith('_nan')]\n",
    "    X = X[:, cols_to_keep]\n",
    "    return X\n",
    "\n",
    "X_combined = transform_and_drop(df_masked)"
   ]
  },
  {
   "cell_type": "code",
   "execution_count": 10,
   "metadata": {},
   "outputs": [],
   "source": [
    "import numpy as np\n",
    "from scipy import sparse\n",
    "\n",
    "# Original mask (shape: n_users x n_original_questions)\n",
    "\n",
    "# convert the original mask to a mask over the onehots\n",
    "def expand_mask(mask):\n",
    "    mask_expanded = []\n",
    "    for col_idx, col in enumerate(q_df.columns):\n",
    "        n_categories = len(q_df[col].cat.categories)\n",
    "        # Repeat mask along a new axis (shape: n_users x n_categories)\n",
    "        mask_repeated = np.repeat(mask[:, col_idx][:, np.newaxis], n_categories, axis=1)\n",
    "        mask_expanded.append(mask_repeated)\n",
    "        # sanity check\n",
    "        assert mask_repeated.shape[0] == 68371\n",
    "\n",
    "    # Stack horizontally (shape: n_users x n_encoded_features)\n",
    "    mask_expanded = np.hstack(mask_expanded)\n",
    "    return mask_expanded\n",
    "\n",
    "# Convert to sparse matrix (if X_combined is sparse)\n",
    "test_mask_expanded = expand_mask(test_mask)\n",
    "test_mask_sparse = sparse.csr_matrix(test_mask_expanded)\n",
    "\n",
    "original_mask = expand_mask(non_nan.values)"
   ]
  },
  {
   "cell_type": "code",
   "execution_count": 11,
   "metadata": {},
   "outputs": [
    {
     "name": "stdout",
     "output_type": "stream",
     "text": [
      "(68371, 1660) (68371, 1660)\n"
     ]
    },
    {
     "data": {
      "text/plain": [
       "np.False_"
      ]
     },
     "execution_count": 11,
     "metadata": {},
     "output_type": "execute_result"
    }
   ],
   "source": [
    "# sanity check\n",
    "\n",
    "print(test_mask_sparse.shape, X_combined.shape)\n",
    "X_combined[test_mask_sparse.nonzero()].any()"
   ]
  },
  {
   "cell_type": "markdown",
   "metadata": {},
   "source": [
    "### data cleaned, ready for naive bayes"
   ]
  },
  {
   "cell_type": "code",
   "execution_count": 12,
   "metadata": {},
   "outputs": [],
   "source": [
    "pr_q_answered = df_masked.notna().mean()\n",
    "pr_user_answered = df_masked.notna().mean(axis=1)"
   ]
  },
  {
   "cell_type": "code",
   "execution_count": 13,
   "metadata": {},
   "outputs": [],
   "source": [
    "feature_names = preprocessor.get_feature_names_out()"
   ]
  },
  {
   "cell_type": "code",
   "execution_count": 14,
   "metadata": {},
   "outputs": [],
   "source": [
    "feature_names = preprocessor.get_feature_names_out()\n",
    "kept_features = [item[8:].split('_') for item in feature_names if not item.endswith('_nan')]"
   ]
  },
  {
   "cell_type": "code",
   "execution_count": 15,
   "metadata": {},
   "outputs": [
    {
     "name": "stdout",
     "output_type": "stream",
     "text": [
      "0 q136 No\n",
      "pr(user answers)= 0.3177083333333333\n",
      "pr(question gets answered)= 0.4242588231852686\n",
      "pr(option i selected | question K gets answered)= 0.38135622435963734\n",
      "take the prodcut of these\n"
     ]
    }
   ],
   "source": [
    "# demonstration of how the naive imputation model works\n",
    "\n",
    "for user, feature in zip(*test_mask_sparse.nonzero()):\n",
    "    question, option = kept_features[feature]\n",
    "    print(user, question, option)\n",
    "    print(\"pr(user answers)=\", pr_user_answered[user])\n",
    "    print(\"pr(question gets answered)=\", pr_q_answered[question])\n",
    "    print(\"pr(option i selected | question K gets answered)=\", df_masked[question].value_counts(normalize=True)[option])\n",
    "    print(\"take the prodcut of these\")\n",
    "    break"
   ]
  },
  {
   "cell_type": "code",
   "execution_count": 16,
   "metadata": {},
   "outputs": [],
   "source": [
    "questions = np.array([q for q, o in kept_features])\n",
    "options   = np.array([o for q, o in kept_features])\n",
    "\n",
    "option_probs = {\n",
    "    q: df_masked[q].value_counts(normalize=True).reindex(q_df[q].cat.categories, fill_value=0)\n",
    "    for q in q_df.columns\n",
    "}\n",
    "option_probs_df = pd.DataFrame(option_probs).T  # index: question, columns: option. super redundant but helps vectorize the operations below\n",
    "\n",
    "users_idx, features_idx = test_mask_sparse.nonzero()\n",
    "\n",
    "q_for_masked = questions[features_idx]\n",
    "o_for_masked = options[features_idx]\n",
    "\n",
    "pr_user_vals = pr_user_answered.values[users_idx]\n",
    "pr_q_vals    = pr_q_answered[q_for_masked].values\n",
    "pr_option_vals = option_probs_df.values[\n",
    "    option_probs_df.index.get_indexer(q_for_masked),\n",
    "    option_probs_df.columns.get_indexer(o_for_masked)\n",
    "]\n",
    "\n",
    "# Vectorized naive bayes\n",
    "naive_imputed_values = pr_user_vals * pr_q_vals * pr_option_vals\n"
   ]
  },
  {
   "cell_type": "code",
   "execution_count": 17,
   "metadata": {},
   "outputs": [
    {
     "data": {
      "text/plain": [
       "True"
      ]
     },
     "execution_count": 17,
     "metadata": {},
     "output_type": "execute_result"
    }
   ],
   "source": [
    "# compare hidden test values to real values\n",
    "X_not_masked = transform_and_drop(q_df)\n",
    "\n",
    "# check:\n",
    "X_not_masked.shape == X_combined.shape"
   ]
  },
  {
   "cell_type": "code",
   "execution_count": 18,
   "metadata": {},
   "outputs": [
    {
     "data": {
      "text/plain": [
       "np.float64(0.2730330339564801)"
      ]
     },
     "execution_count": 18,
     "metadata": {},
     "output_type": "execute_result"
    }
   ],
   "source": [
    "# MSE\n",
    "mse_naive = (np.asarray(X_not_masked[test_mask_sparse] - naive_imputed_values).ravel()**2).mean()\n",
    "mse_naive"
   ]
  },
  {
   "cell_type": "code",
   "execution_count": 19,
   "metadata": {},
   "outputs": [
    {
     "data": {
      "text/plain": [
       "np.float64(0.31851035178195297)"
      ]
     },
     "execution_count": 19,
     "metadata": {},
     "output_type": "execute_result"
    }
   ],
   "source": [
    "# this is the one that Yoram explained to me, but I think the one above makes more sense.\n",
    "\n",
    "row_mean = X_combined.mean(axis=1).ravel()\n",
    "col_mean = X_combined.mean(axis=0).ravel()\n",
    "\n",
    "naive_imputation2 = np.asarray(row_mean).ravel()[users_idx] * np.asarray(col_mean).ravel()[features_idx]\n",
    "\n",
    "mse_naive2 = (np.asarray(X_not_masked[test_mask_sparse] - naive_imputation2).ravel()**2).mean()\n",
    "mse_naive2"
   ]
  },
  {
   "cell_type": "markdown",
   "metadata": {},
   "source": [
    "### imputing values randomly"
   ]
  },
  {
   "cell_type": "code",
   "execution_count": 20,
   "metadata": {},
   "outputs": [
    {
     "data": {
      "text/plain": [
       "np.float64(0.3334513101328833)"
      ]
     },
     "execution_count": 20,
     "metadata": {},
     "output_type": "execute_result"
    }
   ],
   "source": [
    "# random\n",
    "mse_random = (np.asarray(X_not_masked[test_mask_sparse] - np.random.uniform(size=naive_imputed_values.shape)).ravel() **2).mean()\n",
    "mse_random"
   ]
  },
  {
   "cell_type": "code",
   "execution_count": 21,
   "metadata": {},
   "outputs": [
    {
     "data": {
      "text/plain": [
       "np.float64(0.22649856560228354)"
      ]
     },
     "execution_count": 21,
     "metadata": {},
     "output_type": "execute_result"
    }
   ],
   "source": [
    "# impute as as constant, mean of test data:\n",
    "\n",
    "train_data = X_not_masked[original_mask & ~test_mask_sparse.toarray()]\n",
    "mean_val = train_data.mean()\n",
    "\n",
    "mse_constant = (np.asarray(X_not_masked[test_mask_sparse] - (np.zeros_like(naive_imputed_values) + mean_val)).ravel() **2).mean()\n",
    "mse_constant"
   ]
  },
  {
   "cell_type": "markdown",
   "metadata": {},
   "source": [
    "### imputing as modal answer"
   ]
  },
  {
   "cell_type": "code",
   "execution_count": 22,
   "metadata": {},
   "outputs": [],
   "source": [
    "def get_mode(series):\n",
    "    return series.mode().iloc[0]\n",
    "\n",
    "df_modal_imputed = df_masked.apply(lambda col: col.fillna(get_mode(col)))\n",
    "X_modal = transform_and_drop(df_modal_imputed)"
   ]
  },
  {
   "cell_type": "code",
   "execution_count": 23,
   "metadata": {},
   "outputs": [
    {
     "data": {
      "text/plain": [
       "np.float64(0.2541229049423542)"
      ]
     },
     "execution_count": 23,
     "metadata": {},
     "output_type": "execute_result"
    }
   ],
   "source": [
    "# MSE\n",
    "mse_modal = (np.asarray(X_not_masked[test_mask_sparse] - X_modal[test_mask_sparse]).ravel() **2).mean()\n",
    "mse_modal"
   ]
  },
  {
   "cell_type": "markdown",
   "metadata": {},
   "source": [
    "### low rank approximation method!"
   ]
  },
  {
   "cell_type": "code",
   "execution_count": 27,
   "metadata": {},
   "outputs": [
    {
     "name": "stderr",
     "output_type": "stream",
     "text": [
      "W0416 08:45:26.256000 12511 site-packages/torch/_logging/_internal.py:1089] [2/0] Profiler function <class 'torch.autograd.profiler.record_function'> will be ignored\n"
     ]
    },
    {
     "name": "stdout",
     "output_type": "stream",
     "text": [
      "Epoch 0, Loss: 0.31707778573036194\n",
      "Epoch 1, Loss: 0.2988622486591339\n",
      "Epoch 2, Loss: 0.2818002998828888\n",
      "Epoch 3, Loss: 0.2666385769844055\n",
      "Epoch 4, Loss: 0.2537580728530884\n"
     ]
    }
   ],
   "source": [
    "import torch\n",
    "import torch.optim as optim\n",
    "import torch.nn.functional as F\n",
    "\n",
    "# Convert sparse matrices to PyTorch tensors\n",
    "X_combined_tensor = torch.tensor(X_combined.toarray(), dtype=torch.float32)\n",
    "test_mask_tensor = torch.tensor(test_mask_sparse.toarray(), dtype=torch.bool)\n",
    "train_mask_tensor = torch.tensor(original_mask, dtype=torch.bool) & ~test_mask_tensor\n",
    "\n",
    "# Hyperparameters\n",
    "rank = 5  # Rank of the approximation (adjust as needed)\n",
    "learning_rate = 0.1\n",
    "epochs = 5\n",
    "\n",
    "# Initialize low-rank matrices B and C\n",
    "n_users, n_features = X_combined.shape\n",
    "B = torch.randn(n_users, rank, requires_grad=True)\n",
    "C = torch.randn(rank, n_features, requires_grad=True)\n",
    "X_hat = torch.mm(B, C)\n",
    "\n",
    "# Optimizer\n",
    "optimizer = optim.Adam([B, C], lr=learning_rate)\n",
    "\n",
    "@torch.compile\n",
    "def split_and_softmax(X):\n",
    "    split_sizes = [border_indices[0]] + \\\n",
    "                [border_indices[i+1] - border_indices[i] for i in range(len(border_indices)-1)] + \\\n",
    "                [q_df.shape[1] - border_indices[-1]]\n",
    "\n",
    "    split_sizes = [item * (i+2) for i, item in enumerate(split_sizes)]\n",
    "    split_tensors = torch.split(X, split_sizes, dim=1)\n",
    "\n",
    "    processed_tensors = []\n",
    "    for i, tensor in enumerate(split_tensors):\n",
    "        options_per_question = 2 + i  # 2 for first split, 3 for second, 4 for third\n",
    "        n_questions = tensor.shape[1] // options_per_question\n",
    "        \n",
    "        # Reshape to (n_users, n_questions, options_per_question)\n",
    "        reshaped = tensor.view(-1, n_questions, options_per_question)\n",
    "        \n",
    "        # Apply softmax along the last dimension\n",
    "        softmaxed = F.softmax(reshaped, dim=-1)\n",
    "        processed_tensors.append(softmaxed)\n",
    "    \n",
    "    flattened_tensors = [tensor.view(tensor.shape[0], -1) for tensor in processed_tensors]\n",
    "    X_softmaxed = torch.cat(flattened_tensors, dim=1)\n",
    "    return X_softmaxed\n",
    "\n",
    "# Training loop\n",
    "@torch.compile\n",
    "def train_loop():\n",
    "    for epoch in range(epochs):\n",
    "        optimizer.zero_grad()\n",
    "        \n",
    "        # Reconstruct X_hat = B @ C\n",
    "        X_hat = torch.mm(B, C)\n",
    "        X_hat = split_and_softmax(X_hat) # this is the right inductive bias and it also dratically lowers the loss\n",
    "\n",
    "        # Compute loss only on observed entries (not masked for testing)\n",
    "        loss = torch.mean((X_hat[train_mask_tensor] - X_combined_tensor[train_mask_tensor]) ** 2)\n",
    "        \n",
    "        # Backpropagation\n",
    "        loss.backward()\n",
    "        optimizer.step()\n",
    "        \n",
    "        print(f\"Epoch {epoch}, Loss: {loss.item()}\")\n",
    "    return X_hat\n",
    "\n",
    "X_hat = train_loop()\n"
   ]
  },
  {
   "cell_type": "code",
   "execution_count": 28,
   "metadata": {},
   "outputs": [
    {
     "name": "stdout",
     "output_type": "stream",
     "text": [
      "Low-rank MSE: 0.2571645045890882\n"
     ]
    }
   ],
   "source": [
    "\n",
    "# After training, use X_hat to impute missing values\n",
    "X_imputed = X_hat.detach().numpy()\n",
    "\n",
    "# Evaluate on test set\n",
    "test_values = np.asarray(X_not_masked[test_mask_sparse])\n",
    "imputed_test_values = X_imputed[test_mask_sparse.toarray()]\n",
    "\n",
    "mse_low_rank = ((test_values - imputed_test_values) ** 2).mean()\n",
    "print(f\"Low-rank MSE: {mse_low_rank}\")"
   ]
  },
  {
   "cell_type": "markdown",
   "metadata": {},
   "source": [
    "### autoencoder"
   ]
  },
  {
   "cell_type": "code",
   "execution_count": null,
   "metadata": {},
   "outputs": [
    {
     "name": "stdout",
     "output_type": "stream",
     "text": [
      "Epoch [1/5], Average Loss: 0.1508\n",
      "Epoch [2/5], Average Loss: 0.1304\n",
      "Epoch [3/5], Average Loss: 0.1233\n",
      "Epoch [4/5], Average Loss: 0.1183\n",
      "Epoch [5/5], Average Loss: 0.1143\n"
     ]
    },
    {
     "ename": "AttributeError",
     "evalue": "'matrix' object has no attribute 'toarray'",
     "output_type": "error",
     "traceback": [
      "\u001b[31m---------------------------------------------------------------------------\u001b[39m",
      "\u001b[31mAttributeError\u001b[39m                            Traceback (most recent call last)",
      "\u001b[36mCell\u001b[39m\u001b[36m \u001b[39m\u001b[32mIn[29]\u001b[39m\u001b[32m, line 85\u001b[39m\n\u001b[32m     83\u001b[39m \u001b[38;5;66;03m# Extract imputed values for the test set\u001b[39;00m\n\u001b[32m     84\u001b[39m imputed_test_values = imputed_data[test_mask_tensor.bool()].numpy()\n\u001b[32m---> \u001b[39m\u001b[32m85\u001b[39m true_test_values = \u001b[43mX_not_masked\u001b[49m\u001b[43m[\u001b[49m\u001b[43mtest_mask_sparse\u001b[49m\u001b[43m]\u001b[49m\u001b[43m.\u001b[49m\u001b[43mtoarray\u001b[49m()\n\u001b[32m     87\u001b[39m \u001b[38;5;66;03m# Compute MSE for the autoencoder method\u001b[39;00m\n\u001b[32m     88\u001b[39m mse_autoencoder = ((true_test_values - imputed_test_values) ** \u001b[32m2\u001b[39m).mean()\n",
      "\u001b[31mAttributeError\u001b[39m: 'matrix' object has no attribute 'toarray'"
     ]
    }
   ],
   "source": [
    "import torch\n",
    "import torch.nn as nn\n",
    "import torch.optim as optim\n",
    "from torch.utils.data import DataLoader, TensorDataset\n",
    "\n",
    "# Convert data to PyTorch tensors\n",
    "X_combined_tensor = torch.tensor(X_combined.toarray(), dtype=torch.float32)\n",
    "original_mask_tensor = torch.tensor(original_mask, dtype=torch.float32)\n",
    "test_mask_tensor = torch.tensor(test_mask_sparse.toarray(), dtype=torch.float32)\n",
    "\n",
    "# Create a training mask: original data present but not in test set\n",
    "train_mask_tensor = original_mask_tensor * (1 - test_mask_tensor)\n",
    "\n",
    "# Autoencoder architecture (same as before)\n",
    "class Autoencoder(nn.Module):\n",
    "    def __init__(self, input_dim, encoding_dim):\n",
    "        super(Autoencoder, self).__init__()\n",
    "        self.encoder = nn.Sequential(\n",
    "            nn.Linear(input_dim, 512),\n",
    "            nn.ReLU(),\n",
    "            nn.Linear(512, 256),\n",
    "            nn.ReLU(),\n",
    "            nn.Linear(256, encoding_dim)\n",
    "        )\n",
    "        self.decoder = nn.Sequential(\n",
    "            nn.Linear(encoding_dim, 256),\n",
    "            nn.ReLU(),\n",
    "            nn.Linear(256, 512),\n",
    "            nn.ReLU(),\n",
    "            nn.Linear(512, input_dim),\n",
    "            nn.Sigmoid()\n",
    "        )\n",
    "\n",
    "    def forward(self, x):\n",
    "        encoded = self.encoder(x)\n",
    "        decoded = self.decoder(encoded)\n",
    "        return decoded\n",
    "\n",
    "# Hyperparameters\n",
    "input_dim = X_combined_tensor.shape[1]\n",
    "encoding_dim = 64\n",
    "batch_size = 256\n",
    "learning_rate = 0.001\n",
    "epochs = 5\n",
    "\n",
    "# Create the autoencoder model\n",
    "model = Autoencoder(input_dim, encoding_dim)\n",
    "\n",
    "# Loss function and optimizer\n",
    "criterion = nn.MSELoss(reduction='sum')\n",
    "optimizer = optim.Adam(model.parameters(), lr=learning_rate)\n",
    "\n",
    "# Create DataLoader\n",
    "dataset = TensorDataset(X_combined_tensor, train_mask_tensor)\n",
    "dataloader = DataLoader(dataset, batch_size=batch_size, shuffle=True)\n",
    "\n",
    "# Training loop\n",
    "for epoch in range(epochs):\n",
    "    total_loss = 0\n",
    "    for batch_x, batch_train_mask in dataloader:\n",
    "        # Forward pass\n",
    "        outputs = model(batch_x)\n",
    "        \n",
    "        # Compute loss only on non-masked, non-test values\n",
    "        loss = criterion(outputs * batch_train_mask, batch_x * batch_train_mask)\n",
    "        loss = loss / batch_train_mask.sum()  # Normalize by number of non-masked elements\n",
    "        \n",
    "        # Backward pass and optimize\n",
    "        optimizer.zero_grad()\n",
    "        loss.backward()\n",
    "        optimizer.step()\n",
    "        \n",
    "        total_loss += loss.item() * batch_train_mask.sum()\n",
    "    \n",
    "    avg_loss = total_loss / train_mask_tensor.sum()\n",
    "    print(f'Epoch [{epoch+1}/{epochs}], Average Loss: {avg_loss:.4f}')"
   ]
  },
  {
   "cell_type": "code",
   "execution_count": 33,
   "metadata": {},
   "outputs": [
    {
     "name": "stdout",
     "output_type": "stream",
     "text": [
      "Autoencoder MSE: 0.13427468260616784\n"
     ]
    }
   ],
   "source": [
    "\n",
    "# Use the trained model for imputation\n",
    "model.eval()\n",
    "with torch.no_grad():\n",
    "    imputed_data = model(X_combined_tensor)\n",
    "\n",
    "# Extract imputed values for the test set\n",
    "imputed_test_values = imputed_data[test_mask_tensor.bool()].numpy()\n",
    "true_test_values = np.asarray(X_not_masked[test_mask_sparse])\n",
    "\n",
    "# Compute MSE for the autoencoder method\n",
    "mse_autoencoder = ((true_test_values - imputed_test_values) ** 2).mean()\n",
    "print(f\"Autoencoder MSE: {mse_autoencoder}\")"
   ]
  },
  {
   "cell_type": "markdown",
   "metadata": {},
   "source": [
    "### autoencoder without minibatching"
   ]
  },
  {
   "cell_type": "code",
   "execution_count": 34,
   "metadata": {},
   "outputs": [
    {
     "name": "stdout",
     "output_type": "stream",
     "text": [
      "Autoencoder MSE: 0.2129213418300474\n"
     ]
    }
   ],
   "source": [
    "import torch\n",
    "import torch.nn as nn\n",
    "import torch.optim as optim\n",
    "import torch.nn.functional as F\n",
    "\n",
    "# Convert data to PyTorch tensors (if not already done)\n",
    "X_combined_tensor = torch.tensor(X_combined.toarray(), dtype=torch.float32)\n",
    "original_mask_tensor = torch.tensor(original_mask, dtype=torch.float32)\n",
    "test_mask_tensor = torch.tensor(test_mask_sparse.toarray(), dtype=torch.float32)\n",
    "\n",
    "# Create a training mask: original data present but not in test set\n",
    "train_mask_tensor = original_mask_tensor * (1 - test_mask_tensor)\n",
    "\n",
    "# Autoencoder architecture\n",
    "class Autoencoder(nn.Module):\n",
    "    def __init__(self, input_dim, encoding_dim):\n",
    "        super(Autoencoder, self).__init__()\n",
    "        self.encoder = nn.Sequential(\n",
    "            nn.Linear(input_dim, 512),\n",
    "            nn.ReLU(),\n",
    "            nn.Linear(512, 256),\n",
    "            nn.ReLU(),\n",
    "            nn.Linear(256, encoding_dim)\n",
    "        )\n",
    "        self.decoder = nn.Sequential(\n",
    "            nn.Linear(encoding_dim, 256),\n",
    "            nn.ReLU(),\n",
    "            nn.Linear(256, 512),\n",
    "            nn.ReLU(),\n",
    "            nn.Linear(512, input_dim)\n",
    "        )\n",
    "\n",
    "    def forward(self, x):\n",
    "        encoded = self.encoder(x)\n",
    "        decoded = self.decoder(encoded)\n",
    "        return decoded\n",
    "\n",
    "# Softmax function (same as in low-rank approximation)\n",
    "@torch.compile\n",
    "def split_and_softmax(X):\n",
    "    split_sizes = [border_indices[0]] + \\\n",
    "                [border_indices[i+1] - border_indices[i] for i in range(len(border_indices)-1)] + \\\n",
    "                [q_df.shape[1] - border_indices[-1]]\n",
    "\n",
    "    split_sizes = [item * (i+2) for i, item in enumerate(split_sizes)]\n",
    "    split_tensors = torch.split(X, split_sizes, dim=1)\n",
    "\n",
    "    processed_tensors = []\n",
    "    for i, tensor in enumerate(split_tensors):\n",
    "        options_per_question = 2 + i  # 2 for first split, 3 for second, 4 for third\n",
    "        n_questions = tensor.shape[1] // options_per_question\n",
    "        \n",
    "        # Reshape to (n_users, n_questions, options_per_question)\n",
    "        reshaped = tensor.view(-1, n_questions, options_per_question)\n",
    "        \n",
    "        # Apply softmax along the last dimension\n",
    "        softmaxed = F.softmax(reshaped, dim=-1)\n",
    "        processed_tensors.append(softmaxed)\n",
    "    \n",
    "    flattened_tensors = [tensor.view(tensor.shape[0], -1) for tensor in processed_tensors]\n",
    "    X_softmaxed = torch.cat(flattened_tensors, dim=1)\n",
    "    return X_softmaxed\n",
    "\n",
    "# Hyperparameters\n",
    "input_dim = X_combined_tensor.shape[1]\n",
    "encoding_dim = 64\n",
    "learning_rate = 0.001\n",
    "epochs = 1  # Increase epochs since we're not minibatching\n",
    "\n",
    "# Create the autoencoder model\n",
    "model = Autoencoder(input_dim, encoding_dim)\n",
    "\n",
    "# Loss function and optimizer\n",
    "criterion = nn.MSELoss(reduction='sum')\n",
    "optimizer = optim.Adam(model.parameters(), lr=learning_rate)\n",
    "\n",
    "# Training loop\n",
    "for epoch in range(epochs):\n",
    "    # Forward pass\n",
    "    outputs = model(X_combined_tensor)\n",
    "    outputs_softmax = split_and_softmax(outputs)\n",
    "    \n",
    "    # Compute loss only on non-masked, non-test values\n",
    "    loss = criterion(outputs_softmax * train_mask_tensor, X_combined_tensor * train_mask_tensor)\n",
    "    loss = loss / train_mask_tensor.sum()  # Normalize by number of non-masked elements\n",
    "    \n",
    "    # Backward pass and optimize\n",
    "    optimizer.zero_grad()\n",
    "    loss.backward()\n",
    "    optimizer.step()\n",
    "    \n",
    "    if (epoch + 1) % 10 == 0:\n",
    "        print(f'Epoch [{epoch+1}/{epochs}], Loss: {loss.item():.4f}')\n",
    "\n",
    "# Use the trained model for imputation\n",
    "model.eval()\n",
    "with torch.no_grad():\n",
    "    imputed_data = model(X_combined_tensor)\n",
    "    imputed_data_softmax = split_and_softmax(imputed_data)\n",
    "\n",
    "# Extract imputed values for the test set\n",
    "imputed_test_values = imputed_data_softmax[test_mask_tensor.bool()].numpy()\n",
    "true_test_values = np.asarray(X_not_masked[test_mask_sparse])\n",
    "\n",
    "# Compute MSE for the autoencoder method\n",
    "mse_autoencoder = ((true_test_values - imputed_test_values) ** 2).mean()\n",
    "print(f\"Autoencoder MSE: {mse_autoencoder}\")"
   ]
  },
  {
   "cell_type": "markdown",
   "metadata": {},
   "source": [
    "### compare MSE's"
   ]
  },
  {
   "cell_type": "code",
   "execution_count": null,
   "metadata": {},
   "outputs": [
    {
     "name": "stderr",
     "output_type": "stream",
     "text": [
      "/var/folders/9d/j5yw54ld78qdvpkxky67ldz40000gn/T/ipykernel_12511/290987678.py:15: FutureWarning: \n",
      "\n",
      "Passing `palette` without assigning `hue` is deprecated and will be removed in v0.14.0. Assign the `x` variable to `hue` and set `legend=False` for the same effect.\n",
      "\n",
      "  sns.barplot(x=e_series.index, y=e_series.values, palette='viridis')\n"
     ]
    },
    {
     "data": {
      "image/png": "[encoded data removed]",
      "text/plain": [
       "<Figure size 1000x600 with 1 Axes>"
      ]
     },
     "metadata": {},
     "output_type": "display_data"
    }
   ],
   "source": [
    "import seaborn as sns\n",
    "import matplotlib.pyplot as plt\n",
    "\n",
    "errors = {\"autoencoder\": mse_autoencoder,\n",
    "'constant': mse_constant,\n",
    "'lowrank': mse_low_rank,\n",
    "'modal': mse_modal,\n",
    "'naive': mse_naive,\n",
    "'naive2': mse_naive2,\n",
    "'random': mse_random}\n",
    "\n",
    "e_series = pd.Series(errors).sort_values()\n",
    "\n",
    "plt.figure(figsize=(10,6))\n",
    "sns.barplot(x=e_series.index, y=e_series.values, palette='viridis')\n",
    "plt.title('Mean Squared Error by Imputation Method')\n",
    "plt.xlabel('Imputation Method')\n",
    "plt.ylabel('Mean Squared Error')\n",
    "plt.xticks(rotation=45)\n",
    "plt.tight_layout()\n",
    "plt.show()"
   ]
  },
  {
   "cell_type": "code",
   "execution_count": null,
   "metadata": {},
   "outputs": [],
   "source": []
  }
 ],
 "metadata": {
  "kernelspec": {
   "display_name": "ml_env",
   "language": "python",
   "name": "python3"
  },
  "language_info": {
   "codemirror_mode": {
    "name": "ipython",
    "version": 3
   },
   "file_extension": ".py",
   "mimetype": "text/x-python",
   "name": "python",
   "nbconvert_exporter": "python",
   "pygments_lexer": "ipython3",
   "version": "3.12.10"
  }
 },
 "nbformat": 4,
 "nbformat_minor": 2
}
