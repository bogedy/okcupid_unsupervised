{
 "cells": [
  {
   "cell_type": "code",
   "execution_count": 132,
   "metadata": {},
   "outputs": [],
   "source": [
    "import pandas as pd\n",
    "\n",
    "raw_df = pd.read_feather(\"../data/data.feather\")\n",
    "test_items_df = pd.read_csv(\"../data/test_items.csv\",index_col=0)\n",
    "question_data = pd.read_csv(\"../data/question_data.csv\", sep=';', index_col=0)"
   ]
  },
  {
   "cell_type": "code",
   "execution_count": 133,
   "metadata": {},
   "outputs": [
    {
     "data": {
      "text/plain": [
       "576"
      ]
     },
     "execution_count": 133,
     "metadata": {},
     "output_type": "execute_result"
    }
   ],
   "source": [
    "question_weights = pd.read_csv('../outputs/question_weights.csv', index_col=0)\n",
    "q_weights = question_weights.scores.to_list()\n",
    "len(q_weights)"
   ]
  },
  {
   "cell_type": "code",
   "execution_count": 134,
   "metadata": {},
   "outputs": [],
   "source": [
    "test_item_qs = [item for item in test_items_df.index if item in raw_df.columns]"
   ]
  },
  {
   "cell_type": "code",
   "execution_count": 135,
   "metadata": {},
   "outputs": [],
   "source": [
    "q_df = raw_df.drop(columns=test_item_qs)\n",
    "q_df = q_df.filter(regex=r'^q\\d+$')"
   ]
  },
  {
   "cell_type": "code",
   "execution_count": 136,
   "metadata": {},
   "outputs": [],
   "source": [
    "# drop the lowest response q's\n",
    "N_DROP = 2000\n",
    "low_response = [col for col in question_data.sort_values('N').iloc[:N_DROP].index if col in q_df.columns]\n",
    "q_df = q_df.drop(columns=low_response)"
   ]
  },
  {
   "cell_type": "code",
   "execution_count": 137,
   "metadata": {},
   "outputs": [],
   "source": [
    "# sort by number of categories for easier manipulation later\n",
    "sorted_num_levels = q_df.apply(lambda x: len(x.cat.categories)).sort_values()\n",
    "q_df = q_df[sorted_num_levels.index]"
   ]
  },
  {
   "cell_type": "code",
   "execution_count": 138,
   "metadata": {},
   "outputs": [],
   "source": [
    "question_data.loc[q_df.columns].to_csv('../outputs/filtered_qs.csv')"
   ]
  },
  {
   "cell_type": "code",
   "execution_count": 139,
   "metadata": {},
   "outputs": [
    {
     "data": {
      "text/html": [
       "<div>\n",
       "<style scoped>\n",
       "    .dataframe tbody tr th:only-of-type {\n",
       "        vertical-align: middle;\n",
       "    }\n",
       "\n",
       "    .dataframe tbody tr th {\n",
       "        vertical-align: top;\n",
       "    }\n",
       "\n",
       "    .dataframe thead th {\n",
       "        text-align: right;\n",
       "    }\n",
       "</style>\n",
       "<table border=\"1\" class=\"dataframe\">\n",
       "  <thead>\n",
       "    <tr style=\"text-align: right;\">\n",
       "      <th></th>\n",
       "      <th>text</th>\n",
       "      <th>option_1</th>\n",
       "      <th>option_2</th>\n",
       "      <th>option_3</th>\n",
       "      <th>option_4</th>\n",
       "      <th>N</th>\n",
       "      <th>Type</th>\n",
       "      <th>Order</th>\n",
       "      <th>Keywords</th>\n",
       "    </tr>\n",
       "  </thead>\n",
       "  <tbody>\n",
       "    <tr>\n",
       "      <th>q19365</th>\n",
       "      <td>If you meet someone and they are everything yo...</td>\n",
       "      <td>Yes</td>\n",
       "      <td>No</td>\n",
       "      <td>NaN</td>\n",
       "      <td>NaN</td>\n",
       "      <td>25296</td>\n",
       "      <td>O</td>\n",
       "      <td>NaN</td>\n",
       "      <td>preference</td>\n",
       "    </tr>\n",
       "    <tr>\n",
       "      <th>q47635</th>\n",
       "      <td>Imagine you have a partner who is able to prov...</td>\n",
       "      <td>Yes.</td>\n",
       "      <td>No.</td>\n",
       "      <td>NaN</td>\n",
       "      <td>NaN</td>\n",
       "      <td>23885</td>\n",
       "      <td>O</td>\n",
       "      <td>NaN</td>\n",
       "      <td>preference; descriptive</td>\n",
       "    </tr>\n",
       "    <tr>\n",
       "      <th>q165644</th>\n",
       "      <td>What's worse on a first date?</td>\n",
       "      <td>No physical attraction</td>\n",
       "      <td>Nothing to talk about</td>\n",
       "      <td>NaN</td>\n",
       "      <td>NaN</td>\n",
       "      <td>40161</td>\n",
       "      <td>O</td>\n",
       "      <td>NaN</td>\n",
       "      <td>religion/superstition; descriptive</td>\n",
       "    </tr>\n",
       "    <tr>\n",
       "      <th>q158</th>\n",
       "      <td>Are you an aspiring actor/artist/writer or oth...</td>\n",
       "      <td>Yes</td>\n",
       "      <td>No</td>\n",
       "      <td>NaN</td>\n",
       "      <td>NaN</td>\n",
       "      <td>40052</td>\n",
       "      <td>O</td>\n",
       "      <td>NaN</td>\n",
       "      <td>descriptive</td>\n",
       "    </tr>\n",
       "    <tr>\n",
       "      <th>q15744</th>\n",
       "      <td>Are you a pet person?</td>\n",
       "      <td>Yes</td>\n",
       "      <td>No</td>\n",
       "      <td>NaN</td>\n",
       "      <td>NaN</td>\n",
       "      <td>25704</td>\n",
       "      <td>O</td>\n",
       "      <td>NaN</td>\n",
       "      <td>descriptive</td>\n",
       "    </tr>\n",
       "    <tr>\n",
       "      <th>...</th>\n",
       "      <td>...</td>\n",
       "      <td>...</td>\n",
       "      <td>...</td>\n",
       "      <td>...</td>\n",
       "      <td>...</td>\n",
       "      <td>...</td>\n",
       "      <td>...</td>\n",
       "      <td>...</td>\n",
       "      <td>...</td>\n",
       "    </tr>\n",
       "    <tr>\n",
       "      <th>q30723</th>\n",
       "      <td>Which is the greatest compliment you could rec...</td>\n",
       "      <td>That you are beautiful/sexy/hot</td>\n",
       "      <td>That you are intelligent</td>\n",
       "      <td>That you are talented</td>\n",
       "      <td>That you are extremely fun to be with</td>\n",
       "      <td>25230</td>\n",
       "      <td>N</td>\n",
       "      <td>NaN</td>\n",
       "      <td>preference; descriptive</td>\n",
       "    </tr>\n",
       "    <tr>\n",
       "      <th>q21488</th>\n",
       "      <td>Do you pick up after yourself? Be honest.</td>\n",
       "      <td>Always.</td>\n",
       "      <td>Yeah, when I have the time.</td>\n",
       "      <td>No, I live in filth.</td>\n",
       "      <td>No, my mom/roommate/partner mostly does it for...</td>\n",
       "      <td>30108</td>\n",
       "      <td>O</td>\n",
       "      <td>(3, 4), 2, 1</td>\n",
       "      <td>descriptive</td>\n",
       "    </tr>\n",
       "    <tr>\n",
       "      <th>q274</th>\n",
       "      <td>What's the highest level of education you've c...</td>\n",
       "      <td>Graduate School</td>\n",
       "      <td>College</td>\n",
       "      <td>High School</td>\n",
       "      <td>Junior High</td>\n",
       "      <td>31706</td>\n",
       "      <td>O</td>\n",
       "      <td>NaN</td>\n",
       "      <td>descriptive</td>\n",
       "    </tr>\n",
       "    <tr>\n",
       "      <th>q218</th>\n",
       "      <td>Should prostitution be legal?</td>\n",
       "      <td>Yes, absolutely</td>\n",
       "      <td>Yes, only if it were regulated</td>\n",
       "      <td>I don't think so</td>\n",
       "      <td>ABSOLUTELY NOT</td>\n",
       "      <td>25694</td>\n",
       "      <td>O</td>\n",
       "      <td>NaN</td>\n",
       "      <td>politics; religion/superstition</td>\n",
       "    </tr>\n",
       "    <tr>\n",
       "      <th>q265</th>\n",
       "      <td>Who do you think was smartest on this list?</td>\n",
       "      <td>Einstein</td>\n",
       "      <td>Shakespeare</td>\n",
       "      <td>Mozart</td>\n",
       "      <td>Jesus</td>\n",
       "      <td>29398</td>\n",
       "      <td>N</td>\n",
       "      <td>NaN</td>\n",
       "      <td>opinion</td>\n",
       "    </tr>\n",
       "  </tbody>\n",
       "</table>\n",
       "<p>576 rows × 9 columns</p>\n",
       "</div>"
      ],
      "text/plain": [
       "                                                      text  \\\n",
       "q19365   If you meet someone and they are everything yo...   \n",
       "q47635   Imagine you have a partner who is able to prov...   \n",
       "q165644                      What's worse on a first date?   \n",
       "q158     Are you an aspiring actor/artist/writer or oth...   \n",
       "q15744                               Are you a pet person?   \n",
       "...                                                    ...   \n",
       "q30723   Which is the greatest compliment you could rec...   \n",
       "q21488           Do you pick up after yourself? Be honest.   \n",
       "q274     What's the highest level of education you've c...   \n",
       "q218                         Should prostitution be legal?   \n",
       "q265           Who do you think was smartest on this list?   \n",
       "\n",
       "                                option_1                        option_2  \\\n",
       "q19365                               Yes                              No   \n",
       "q47635                              Yes.                             No.   \n",
       "q165644           No physical attraction           Nothing to talk about   \n",
       "q158                                 Yes                              No   \n",
       "q15744                               Yes                              No   \n",
       "...                                  ...                             ...   \n",
       "q30723   That you are beautiful/sexy/hot        That you are intelligent   \n",
       "q21488                           Always.     Yeah, when I have the time.   \n",
       "q274                     Graduate School                         College   \n",
       "q218                     Yes, absolutely  Yes, only if it were regulated   \n",
       "q265                            Einstein                     Shakespeare   \n",
       "\n",
       "                      option_3  \\\n",
       "q19365                     NaN   \n",
       "q47635                     NaN   \n",
       "q165644                    NaN   \n",
       "q158                       NaN   \n",
       "q15744                     NaN   \n",
       "...                        ...   \n",
       "q30723   That you are talented   \n",
       "q21488    No, I live in filth.   \n",
       "q274               High School   \n",
       "q218          I don't think so   \n",
       "q265                    Mozart   \n",
       "\n",
       "                                                  option_4      N Type  \\\n",
       "q19365                                                 NaN  25296    O   \n",
       "q47635                                                 NaN  23885    O   \n",
       "q165644                                                NaN  40161    O   \n",
       "q158                                                   NaN  40052    O   \n",
       "q15744                                                 NaN  25704    O   \n",
       "...                                                    ...    ...  ...   \n",
       "q30723               That you are extremely fun to be with  25230    N   \n",
       "q21488   No, my mom/roommate/partner mostly does it for...  30108    O   \n",
       "q274                                           Junior High  31706    O   \n",
       "q218                                        ABSOLUTELY NOT  25694    O   \n",
       "q265                                                 Jesus  29398    N   \n",
       "\n",
       "                Order                            Keywords  \n",
       "q19365            NaN                          preference  \n",
       "q47635            NaN             preference; descriptive  \n",
       "q165644           NaN  religion/superstition; descriptive  \n",
       "q158              NaN                         descriptive  \n",
       "q15744            NaN                         descriptive  \n",
       "...               ...                                 ...  \n",
       "q30723            NaN             preference; descriptive  \n",
       "q21488   (3, 4), 2, 1                         descriptive  \n",
       "q274              NaN                         descriptive  \n",
       "q218              NaN     politics; religion/superstition  \n",
       "q265              NaN                             opinion  \n",
       "\n",
       "[576 rows x 9 columns]"
      ]
     },
     "execution_count": 139,
     "metadata": {},
     "output_type": "execute_result"
    }
   ],
   "source": [
    "question_data.loc[q_df.columns]"
   ]
  },
  {
   "cell_type": "code",
   "execution_count": 7,
   "metadata": {},
   "outputs": [
    {
     "data": {
      "text/html": [
       "<div>\n",
       "<style scoped>\n",
       "    .dataframe tbody tr th:only-of-type {\n",
       "        vertical-align: middle;\n",
       "    }\n",
       "\n",
       "    .dataframe tbody tr th {\n",
       "        vertical-align: top;\n",
       "    }\n",
       "\n",
       "    .dataframe thead th {\n",
       "        text-align: right;\n",
       "    }\n",
       "</style>\n",
       "<table border=\"1\" class=\"dataframe\">\n",
       "  <thead>\n",
       "    <tr style=\"text-align: right;\">\n",
       "      <th></th>\n",
       "      <th>q19365</th>\n",
       "      <th>q47635</th>\n",
       "      <th>q165644</th>\n",
       "      <th>q158</th>\n",
       "      <th>q15744</th>\n",
       "      <th>q155</th>\n",
       "      <th>q15478</th>\n",
       "      <th>q47764</th>\n",
       "      <th>q19737</th>\n",
       "      <th>q171</th>\n",
       "      <th>...</th>\n",
       "      <th>q33602</th>\n",
       "      <th>q34517</th>\n",
       "      <th>q35355</th>\n",
       "      <th>q28754</th>\n",
       "      <th>q30207</th>\n",
       "      <th>q30723</th>\n",
       "      <th>q21488</th>\n",
       "      <th>q274</th>\n",
       "      <th>q218</th>\n",
       "      <th>q265</th>\n",
       "    </tr>\n",
       "  </thead>\n",
       "  <tbody>\n",
       "    <tr>\n",
       "      <th>0</th>\n",
       "      <td>NaN</td>\n",
       "      <td>NaN</td>\n",
       "      <td>Nothing to talk about</td>\n",
       "      <td>NaN</td>\n",
       "      <td>Yes</td>\n",
       "      <td>NaN</td>\n",
       "      <td>NaN</td>\n",
       "      <td>NaN</td>\n",
       "      <td>Yes</td>\n",
       "      <td>NaN</td>\n",
       "      <td>...</td>\n",
       "      <td>NaN</td>\n",
       "      <td>NaN</td>\n",
       "      <td>I'm open, but I don't get too crazy.</td>\n",
       "      <td>At least 2 years</td>\n",
       "      <td>No, it's fine.</td>\n",
       "      <td>NaN</td>\n",
       "      <td>NaN</td>\n",
       "      <td>Graduate School</td>\n",
       "      <td>NaN</td>\n",
       "      <td>NaN</td>\n",
       "    </tr>\n",
       "    <tr>\n",
       "      <th>1</th>\n",
       "      <td>NaN</td>\n",
       "      <td>NaN</td>\n",
       "      <td>NaN</td>\n",
       "      <td>NaN</td>\n",
       "      <td>NaN</td>\n",
       "      <td>NaN</td>\n",
       "      <td>NaN</td>\n",
       "      <td>NaN</td>\n",
       "      <td>NaN</td>\n",
       "      <td>NaN</td>\n",
       "      <td>...</td>\n",
       "      <td>NaN</td>\n",
       "      <td>NaN</td>\n",
       "      <td>NaN</td>\n",
       "      <td>NaN</td>\n",
       "      <td>NaN</td>\n",
       "      <td>NaN</td>\n",
       "      <td>NaN</td>\n",
       "      <td>NaN</td>\n",
       "      <td>NaN</td>\n",
       "      <td>NaN</td>\n",
       "    </tr>\n",
       "    <tr>\n",
       "      <th>2</th>\n",
       "      <td>Yes</td>\n",
       "      <td>Yes.</td>\n",
       "      <td>Nothing to talk about</td>\n",
       "      <td>NaN</td>\n",
       "      <td>NaN</td>\n",
       "      <td>NaN</td>\n",
       "      <td>NaN</td>\n",
       "      <td>Yes.</td>\n",
       "      <td>Yes</td>\n",
       "      <td>NaN</td>\n",
       "      <td>...</td>\n",
       "      <td>Yes, almost always</td>\n",
       "      <td>NaN</td>\n",
       "      <td>NaN</td>\n",
       "      <td>NaN</td>\n",
       "      <td>No, it's underrated.</td>\n",
       "      <td>NaN</td>\n",
       "      <td>NaN</td>\n",
       "      <td>College</td>\n",
       "      <td>NaN</td>\n",
       "      <td>NaN</td>\n",
       "    </tr>\n",
       "    <tr>\n",
       "      <th>3</th>\n",
       "      <td>NaN</td>\n",
       "      <td>NaN</td>\n",
       "      <td>NaN</td>\n",
       "      <td>NaN</td>\n",
       "      <td>NaN</td>\n",
       "      <td>NaN</td>\n",
       "      <td>NaN</td>\n",
       "      <td>NaN</td>\n",
       "      <td>NaN</td>\n",
       "      <td>NaN</td>\n",
       "      <td>...</td>\n",
       "      <td>NaN</td>\n",
       "      <td>NaN</td>\n",
       "      <td>NaN</td>\n",
       "      <td>NaN</td>\n",
       "      <td>NaN</td>\n",
       "      <td>NaN</td>\n",
       "      <td>NaN</td>\n",
       "      <td>NaN</td>\n",
       "      <td>NaN</td>\n",
       "      <td>NaN</td>\n",
       "    </tr>\n",
       "    <tr>\n",
       "      <th>4</th>\n",
       "      <td>NaN</td>\n",
       "      <td>NaN</td>\n",
       "      <td>NaN</td>\n",
       "      <td>NaN</td>\n",
       "      <td>NaN</td>\n",
       "      <td>NaN</td>\n",
       "      <td>NaN</td>\n",
       "      <td>NaN</td>\n",
       "      <td>NaN</td>\n",
       "      <td>NaN</td>\n",
       "      <td>...</td>\n",
       "      <td>NaN</td>\n",
       "      <td>NaN</td>\n",
       "      <td>NaN</td>\n",
       "      <td>NaN</td>\n",
       "      <td>NaN</td>\n",
       "      <td>NaN</td>\n",
       "      <td>NaN</td>\n",
       "      <td>NaN</td>\n",
       "      <td>NaN</td>\n",
       "      <td>NaN</td>\n",
       "    </tr>\n",
       "    <tr>\n",
       "      <th>...</th>\n",
       "      <td>...</td>\n",
       "      <td>...</td>\n",
       "      <td>...</td>\n",
       "      <td>...</td>\n",
       "      <td>...</td>\n",
       "      <td>...</td>\n",
       "      <td>...</td>\n",
       "      <td>...</td>\n",
       "      <td>...</td>\n",
       "      <td>...</td>\n",
       "      <td>...</td>\n",
       "      <td>...</td>\n",
       "      <td>...</td>\n",
       "      <td>...</td>\n",
       "      <td>...</td>\n",
       "      <td>...</td>\n",
       "      <td>...</td>\n",
       "      <td>...</td>\n",
       "      <td>...</td>\n",
       "      <td>...</td>\n",
       "      <td>...</td>\n",
       "    </tr>\n",
       "    <tr>\n",
       "      <th>68366</th>\n",
       "      <td>NaN</td>\n",
       "      <td>NaN</td>\n",
       "      <td>NaN</td>\n",
       "      <td>NaN</td>\n",
       "      <td>NaN</td>\n",
       "      <td>NaN</td>\n",
       "      <td>NaN</td>\n",
       "      <td>NaN</td>\n",
       "      <td>NaN</td>\n",
       "      <td>NaN</td>\n",
       "      <td>...</td>\n",
       "      <td>NaN</td>\n",
       "      <td>NaN</td>\n",
       "      <td>NaN</td>\n",
       "      <td>NaN</td>\n",
       "      <td>NaN</td>\n",
       "      <td>NaN</td>\n",
       "      <td>NaN</td>\n",
       "      <td>NaN</td>\n",
       "      <td>NaN</td>\n",
       "      <td>NaN</td>\n",
       "    </tr>\n",
       "    <tr>\n",
       "      <th>68367</th>\n",
       "      <td>NaN</td>\n",
       "      <td>NaN</td>\n",
       "      <td>NaN</td>\n",
       "      <td>NaN</td>\n",
       "      <td>NaN</td>\n",
       "      <td>NaN</td>\n",
       "      <td>NaN</td>\n",
       "      <td>NaN</td>\n",
       "      <td>NaN</td>\n",
       "      <td>NaN</td>\n",
       "      <td>...</td>\n",
       "      <td>NaN</td>\n",
       "      <td>NaN</td>\n",
       "      <td>NaN</td>\n",
       "      <td>NaN</td>\n",
       "      <td>NaN</td>\n",
       "      <td>NaN</td>\n",
       "      <td>NaN</td>\n",
       "      <td>NaN</td>\n",
       "      <td>NaN</td>\n",
       "      <td>NaN</td>\n",
       "    </tr>\n",
       "    <tr>\n",
       "      <th>68368</th>\n",
       "      <td>NaN</td>\n",
       "      <td>NaN</td>\n",
       "      <td>NaN</td>\n",
       "      <td>NaN</td>\n",
       "      <td>NaN</td>\n",
       "      <td>NaN</td>\n",
       "      <td>NaN</td>\n",
       "      <td>NaN</td>\n",
       "      <td>NaN</td>\n",
       "      <td>NaN</td>\n",
       "      <td>...</td>\n",
       "      <td>NaN</td>\n",
       "      <td>NaN</td>\n",
       "      <td>NaN</td>\n",
       "      <td>NaN</td>\n",
       "      <td>NaN</td>\n",
       "      <td>NaN</td>\n",
       "      <td>NaN</td>\n",
       "      <td>NaN</td>\n",
       "      <td>NaN</td>\n",
       "      <td>NaN</td>\n",
       "    </tr>\n",
       "    <tr>\n",
       "      <th>68369</th>\n",
       "      <td>NaN</td>\n",
       "      <td>NaN</td>\n",
       "      <td>NaN</td>\n",
       "      <td>NaN</td>\n",
       "      <td>NaN</td>\n",
       "      <td>NaN</td>\n",
       "      <td>NaN</td>\n",
       "      <td>NaN</td>\n",
       "      <td>NaN</td>\n",
       "      <td>NaN</td>\n",
       "      <td>...</td>\n",
       "      <td>NaN</td>\n",
       "      <td>NaN</td>\n",
       "      <td>NaN</td>\n",
       "      <td>NaN</td>\n",
       "      <td>NaN</td>\n",
       "      <td>NaN</td>\n",
       "      <td>NaN</td>\n",
       "      <td>NaN</td>\n",
       "      <td>NaN</td>\n",
       "      <td>NaN</td>\n",
       "    </tr>\n",
       "    <tr>\n",
       "      <th>68370</th>\n",
       "      <td>NaN</td>\n",
       "      <td>NaN</td>\n",
       "      <td>NaN</td>\n",
       "      <td>NaN</td>\n",
       "      <td>NaN</td>\n",
       "      <td>NaN</td>\n",
       "      <td>NaN</td>\n",
       "      <td>NaN</td>\n",
       "      <td>NaN</td>\n",
       "      <td>NaN</td>\n",
       "      <td>...</td>\n",
       "      <td>NaN</td>\n",
       "      <td>NaN</td>\n",
       "      <td>NaN</td>\n",
       "      <td>NaN</td>\n",
       "      <td>NaN</td>\n",
       "      <td>NaN</td>\n",
       "      <td>NaN</td>\n",
       "      <td>NaN</td>\n",
       "      <td>NaN</td>\n",
       "      <td>NaN</td>\n",
       "    </tr>\n",
       "  </tbody>\n",
       "</table>\n",
       "<p>68371 rows × 576 columns</p>\n",
       "</div>"
      ],
      "text/plain": [
       "      q19365 q47635                q165644 q158 q15744 q155 q15478 q47764  \\\n",
       "0        NaN    NaN  Nothing to talk about  NaN    Yes  NaN    NaN    NaN   \n",
       "1        NaN    NaN                    NaN  NaN    NaN  NaN    NaN    NaN   \n",
       "2        Yes   Yes.  Nothing to talk about  NaN    NaN  NaN    NaN   Yes.   \n",
       "3        NaN    NaN                    NaN  NaN    NaN  NaN    NaN    NaN   \n",
       "4        NaN    NaN                    NaN  NaN    NaN  NaN    NaN    NaN   \n",
       "...      ...    ...                    ...  ...    ...  ...    ...    ...   \n",
       "68366    NaN    NaN                    NaN  NaN    NaN  NaN    NaN    NaN   \n",
       "68367    NaN    NaN                    NaN  NaN    NaN  NaN    NaN    NaN   \n",
       "68368    NaN    NaN                    NaN  NaN    NaN  NaN    NaN    NaN   \n",
       "68369    NaN    NaN                    NaN  NaN    NaN  NaN    NaN    NaN   \n",
       "68370    NaN    NaN                    NaN  NaN    NaN  NaN    NaN    NaN   \n",
       "\n",
       "      q19737 q171  ...              q33602 q34517  \\\n",
       "0        Yes  NaN  ...                 NaN    NaN   \n",
       "1        NaN  NaN  ...                 NaN    NaN   \n",
       "2        Yes  NaN  ...  Yes, almost always    NaN   \n",
       "3        NaN  NaN  ...                 NaN    NaN   \n",
       "4        NaN  NaN  ...                 NaN    NaN   \n",
       "...      ...  ...  ...                 ...    ...   \n",
       "68366    NaN  NaN  ...                 NaN    NaN   \n",
       "68367    NaN  NaN  ...                 NaN    NaN   \n",
       "68368    NaN  NaN  ...                 NaN    NaN   \n",
       "68369    NaN  NaN  ...                 NaN    NaN   \n",
       "68370    NaN  NaN  ...                 NaN    NaN   \n",
       "\n",
       "                                     q35355            q28754  \\\n",
       "0      I'm open, but I don't get too crazy.  At least 2 years   \n",
       "1                                       NaN               NaN   \n",
       "2                                       NaN               NaN   \n",
       "3                                       NaN               NaN   \n",
       "4                                       NaN               NaN   \n",
       "...                                     ...               ...   \n",
       "68366                                   NaN               NaN   \n",
       "68367                                   NaN               NaN   \n",
       "68368                                   NaN               NaN   \n",
       "68369                                   NaN               NaN   \n",
       "68370                                   NaN               NaN   \n",
       "\n",
       "                     q30207 q30723 q21488             q274 q218 q265  \n",
       "0            No, it's fine.    NaN    NaN  Graduate School  NaN  NaN  \n",
       "1                       NaN    NaN    NaN              NaN  NaN  NaN  \n",
       "2      No, it's underrated.    NaN    NaN          College  NaN  NaN  \n",
       "3                       NaN    NaN    NaN              NaN  NaN  NaN  \n",
       "4                       NaN    NaN    NaN              NaN  NaN  NaN  \n",
       "...                     ...    ...    ...              ...  ...  ...  \n",
       "68366                   NaN    NaN    NaN              NaN  NaN  NaN  \n",
       "68367                   NaN    NaN    NaN              NaN  NaN  NaN  \n",
       "68368                   NaN    NaN    NaN              NaN  NaN  NaN  \n",
       "68369                   NaN    NaN    NaN              NaN  NaN  NaN  \n",
       "68370                   NaN    NaN    NaN              NaN  NaN  NaN  \n",
       "\n",
       "[68371 rows x 576 columns]"
      ]
     },
     "execution_count": 7,
     "metadata": {},
     "output_type": "execute_result"
    }
   ],
   "source": [
    "q_df"
   ]
  },
  {
   "cell_type": "code",
   "execution_count": 8,
   "metadata": {},
   "outputs": [
    {
     "name": "stdout",
     "output_type": "stream",
     "text": [
      "Border indices where level count changes: [np.int64(252), np.int64(392)]\n",
      "Levels at borders: [3 4]\n"
     ]
    }
   ],
   "source": [
    "# Get the number of unique levels per column\n",
    "num_levels = q_df.nunique()\n",
    "\n",
    "# Sort columns by unique levels\n",
    "sorted_num_levels = num_levels.sort_values()\n",
    "\n",
    "# Find the indices where the level count changes\n",
    "level_counts = sorted_num_levels.values\n",
    "diff = level_counts[1:] != level_counts[:-1]\n",
    "border_indices = list(diff.nonzero()[0] + 1)  # +1 because diff is between elements\n",
    "\n",
    "# For example, print the borders and corresponding levels\n",
    "print(\"Border indices where level count changes:\", border_indices)\n",
    "print(\"Levels at borders:\", level_counts[border_indices])\n",
    "\n",
    "# You can use these indices to split the sorted columns into dfs as needed"
   ]
  },
  {
   "cell_type": "code",
   "execution_count": 9,
   "metadata": {},
   "outputs": [],
   "source": [
    "import numpy as np\n",
    "\n",
    "non_nan = ~q_df.isna()\n",
    "non_nan_indices = np.flatnonzero(non_nan.values)\n",
    "\n",
    "np.random.seed(0)\n",
    "TEST_SIZE = 0.2\n",
    "test_size = int(len(non_nan_indices) * TEST_SIZE)\n",
    "test_mask_flat = np.random.choice(non_nan_indices, size=test_size, replace=False)\n",
    "\n",
    "test_mask = np.zeros_like(q_df.values, dtype=bool)\n",
    "test_mask.flat[test_mask_flat] = True\n",
    "\n",
    "# mask some cells that serve as our test set\n",
    "df_masked = q_df.mask(test_mask)\n"
   ]
  },
  {
   "cell_type": "code",
   "execution_count": 62,
   "metadata": {},
   "outputs": [
    {
     "data": {
      "text/plain": [
       "(68371, 576)"
      ]
     },
     "execution_count": 62,
     "metadata": {},
     "output_type": "execute_result"
    }
   ],
   "source": [
    "non_nan.shape"
   ]
  },
  {
   "cell_type": "code",
   "execution_count": 11,
   "metadata": {},
   "outputs": [],
   "source": [
    "from sklearn.compose import ColumnTransformer\n",
    "from sklearn.preprocessing import OneHotEncoder\n",
    "\n",
    "preprocessor = ColumnTransformer(\n",
    "    transformers=[\n",
    "        ('onehot', OneHotEncoder(sparse_output=True, handle_unknown='ignore'), q_df.columns),\n",
    "    ],\n",
    "    sparse_threshold=1.0\n",
    ")\n",
    "\n",
    "def transform_and_drop(df):\n",
    "    X = preprocessor.fit_transform(df)\n",
    "\n",
    "    # the sklearn onehot encoder doesn't have an option to not encode nans\n",
    "    feature_names = preprocessor.get_feature_names_out()\n",
    "    cols_to_keep = [i for i, name in enumerate(feature_names) if not name.endswith('_nan')]\n",
    "    X = X[:, cols_to_keep]\n",
    "    return X\n",
    "\n",
    "X_combined = transform_and_drop(df_masked)"
   ]
  },
  {
   "cell_type": "code",
   "execution_count": 12,
   "metadata": {},
   "outputs": [],
   "source": [
    "import numpy as np\n",
    "from scipy import sparse\n",
    "\n",
    "# Original mask (shape: n_users x n_original_questions)\n",
    "\n",
    "# convert the original mask to a mask over the onehots\n",
    "def expand_mask(mask):\n",
    "    mask_expanded = []\n",
    "    for col_idx, col in enumerate(q_df.columns):\n",
    "        n_categories = len(q_df[col].cat.categories)\n",
    "        # Repeat mask along a new axis (shape: n_users x n_categories)\n",
    "        mask_repeated = np.repeat(mask[:, col_idx][:, np.newaxis], n_categories, axis=1)\n",
    "        mask_expanded.append(mask_repeated)\n",
    "        # sanity check\n",
    "        assert mask_repeated.shape[0] == 68371\n",
    "\n",
    "    # Stack horizontally (shape: n_users x n_encoded_features)\n",
    "    mask_expanded = np.hstack(mask_expanded)\n",
    "    return mask_expanded\n",
    "\n",
    "# Convert to sparse matrix (if X_combined is sparse)\n",
    "test_mask_expanded = expand_mask(test_mask)\n",
    "test_mask_sparse = sparse.csr_matrix(test_mask_expanded)\n",
    "\n",
    "original_mask = expand_mask(non_nan.values)"
   ]
  },
  {
   "cell_type": "code",
   "execution_count": 13,
   "metadata": {},
   "outputs": [
    {
     "name": "stdout",
     "output_type": "stream",
     "text": [
      "(68371, 1660) (68371, 1660)\n"
     ]
    },
    {
     "data": {
      "text/plain": [
       "np.False_"
      ]
     },
     "execution_count": 13,
     "metadata": {},
     "output_type": "execute_result"
    }
   ],
   "source": [
    "# sanity check\n",
    "\n",
    "print(test_mask_sparse.shape, X_combined.shape)\n",
    "X_combined[test_mask_sparse.nonzero()].any()"
   ]
  },
  {
   "cell_type": "code",
   "execution_count": 106,
   "metadata": {},
   "outputs": [
    {
     "data": {
      "text/plain": [
       "(10444820,)"
      ]
     },
     "execution_count": 106,
     "metadata": {},
     "output_type": "execute_result"
    }
   ],
   "source": [
    "# expand loss weights:\n",
    "\n",
    "def expand_loss_weights(weights):\n",
    "    weights_expanded = []\n",
    "    for col_idx, col in enumerate(q_df.columns):\n",
    "        n_categories = len(q_df[col].cat.categories)\n",
    "        # Repeat mask along a new axis (shape: n_users x n_categories)\n",
    "        weights_expanded += ([weights[col_idx]] * n_categories)\n",
    "        # sanity check\n",
    "    assert len(weights_expanded) == 1660\n",
    "    return weights_expanded\n",
    "\n",
    "weights_expanded = expand_loss_weights(q_weights)\n",
    "_, test_mask_qs = np.nonzero(test_mask_expanded)\n",
    "loss_weights_test = np.array(weights_expanded)[test_mask_qs]\n",
    "loss_weights.shape"
   ]
  },
  {
   "cell_type": "markdown",
   "metadata": {},
   "source": [
    "### data cleaned, ready for naive bayes"
   ]
  },
  {
   "cell_type": "code",
   "execution_count": 14,
   "metadata": {},
   "outputs": [],
   "source": [
    "pr_q_answered = df_masked.notna().mean()\n",
    "pr_user_answered = df_masked.notna().mean(axis=1)"
   ]
  },
  {
   "cell_type": "code",
   "execution_count": 15,
   "metadata": {},
   "outputs": [],
   "source": [
    "feature_names = preprocessor.get_feature_names_out()"
   ]
  },
  {
   "cell_type": "code",
   "execution_count": 16,
   "metadata": {},
   "outputs": [],
   "source": [
    "feature_names = preprocessor.get_feature_names_out()\n",
    "kept_features = [item[8:].split('_') for item in feature_names if not item.endswith('_nan')]"
   ]
  },
  {
   "cell_type": "code",
   "execution_count": 17,
   "metadata": {},
   "outputs": [
    {
     "name": "stdout",
     "output_type": "stream",
     "text": [
      "0 q44639 No\n",
      "pr(user answers)= 0.3177083333333333\n",
      "pr(question gets answered)= 0.6423483640724869\n",
      "pr(option i selected | question K gets answered)= 0.38171137119176646\n",
      "take the prodcut of these\n"
     ]
    }
   ],
   "source": [
    "# demonstration of how the naive imputation model works\n",
    "\n",
    "for user, feature in zip(*test_mask_sparse.nonzero()):\n",
    "    question, option = kept_features[feature]\n",
    "    print(user, question, option)\n",
    "    print(\"pr(user answers)=\", pr_user_answered[user])\n",
    "    print(\"pr(question gets answered)=\", pr_q_answered[question])\n",
    "    print(\"pr(option i selected | question K gets answered)=\", df_masked[question].value_counts(normalize=True)[option])\n",
    "    print(\"take the prodcut of these\")\n",
    "    break"
   ]
  },
  {
   "cell_type": "code",
   "execution_count": 18,
   "metadata": {},
   "outputs": [],
   "source": [
    "questions = np.array([q for q, o in kept_features])\n",
    "options   = np.array([o for q, o in kept_features])\n",
    "\n",
    "option_probs = {\n",
    "    q: df_masked[q].value_counts(normalize=True).reindex(q_df[q].cat.categories, fill_value=0)\n",
    "    for q in q_df.columns\n",
    "}\n",
    "option_probs_df = pd.DataFrame(option_probs).T  # index: question, columns: option. super redundant but helps vectorize the operations below\n",
    "\n",
    "users_idx, features_idx = test_mask_sparse.nonzero()\n",
    "\n",
    "q_for_masked = questions[features_idx]\n",
    "o_for_masked = options[features_idx]\n",
    "\n",
    "pr_user_vals = pr_user_answered.values[users_idx]\n",
    "pr_q_vals    = pr_q_answered[q_for_masked].values\n",
    "pr_option_vals = option_probs_df.values[\n",
    "    option_probs_df.index.get_indexer(q_for_masked),\n",
    "    option_probs_df.columns.get_indexer(o_for_masked)\n",
    "]\n",
    "\n",
    "# Vectorized naive bayes\n",
    "naive_imputed_values = pr_user_vals * pr_q_vals * pr_option_vals\n"
   ]
  },
  {
   "cell_type": "code",
   "execution_count": 19,
   "metadata": {},
   "outputs": [
    {
     "data": {
      "text/plain": [
       "True"
      ]
     },
     "execution_count": 19,
     "metadata": {},
     "output_type": "execute_result"
    }
   ],
   "source": [
    "# compare hidden test values to real values\n",
    "X_not_masked = transform_and_drop(q_df)\n",
    "\n",
    "# check:\n",
    "X_not_masked.shape == X_combined.shape"
   ]
  },
  {
   "cell_type": "code",
   "execution_count": 73,
   "metadata": {},
   "outputs": [
    {
     "data": {
      "text/plain": [
       "(10444820,)"
      ]
     },
     "execution_count": 73,
     "metadata": {},
     "output_type": "execute_result"
    }
   ],
   "source": [
    "(np.asarray(X_not_masked[test_mask_sparse] - naive_imputed_values).ravel()**2).shape"
   ]
  },
  {
   "cell_type": "code",
   "execution_count": 91,
   "metadata": {},
   "outputs": [
    {
     "data": {
      "text/plain": [
       "np.float64(0.27249386668583225)"
      ]
     },
     "execution_count": 91,
     "metadata": {},
     "output_type": "execute_result"
    }
   ],
   "source": [
    "# MSE\n",
    "mse_naive = np.average(np.asarray(X_not_masked[test_mask_sparse] - naive_imputed_values).ravel()**2, weights=loss_weights)\n",
    "mse_naive"
   ]
  },
  {
   "cell_type": "code",
   "execution_count": 92,
   "metadata": {},
   "outputs": [
    {
     "data": {
      "text/plain": [
       "np.float64(0.31765224077267906)"
      ]
     },
     "execution_count": 92,
     "metadata": {},
     "output_type": "execute_result"
    }
   ],
   "source": [
    "# this is the one that Yoram explained to me, but I think the one above makes more sense.\n",
    "\n",
    "row_mean = X_combined.mean(axis=1).ravel()\n",
    "col_mean = X_combined.mean(axis=0).ravel()\n",
    "\n",
    "naive_imputation2 = np.asarray(row_mean).ravel()[users_idx] * np.asarray(col_mean).ravel()[features_idx]\n",
    "\n",
    "mse_naive2 = np.average(np.asarray(X_not_masked[test_mask_sparse] - naive_imputation2).ravel()**2, weights=loss_weights)\n",
    "mse_naive2"
   ]
  },
  {
   "cell_type": "markdown",
   "metadata": {},
   "source": [
    "### imputing values randomly"
   ]
  },
  {
   "cell_type": "code",
   "execution_count": 93,
   "metadata": {},
   "outputs": [
    {
     "data": {
      "text/plain": [
       "np.float64(0.33313321292160564)"
      ]
     },
     "execution_count": 93,
     "metadata": {},
     "output_type": "execute_result"
    }
   ],
   "source": [
    "# random\n",
    "mse_random = np.average(np.asarray(X_not_masked[test_mask_sparse] - np.random.uniform(size=naive_imputed_values.shape)).ravel() **2, weights=loss_weights)\n",
    "mse_random"
   ]
  },
  {
   "cell_type": "code",
   "execution_count": 94,
   "metadata": {},
   "outputs": [
    {
     "data": {
      "text/plain": [
       "np.float64(0.22617873756601115)"
      ]
     },
     "execution_count": 94,
     "metadata": {},
     "output_type": "execute_result"
    }
   ],
   "source": [
    "# impute as as constant, mean of test data:\n",
    "\n",
    "train_data = X_not_masked[original_mask & ~test_mask_sparse.toarray()]\n",
    "mean_val = train_data.mean()\n",
    "\n",
    "mse_constant = np.average(np.asarray(X_not_masked[test_mask_sparse] - (np.zeros_like(naive_imputed_values) + mean_val)).ravel() **2, weights=loss_weights)\n",
    "mse_constant"
   ]
  },
  {
   "cell_type": "markdown",
   "metadata": {},
   "source": [
    "### imputing as modal answer"
   ]
  },
  {
   "cell_type": "code",
   "execution_count": 25,
   "metadata": {},
   "outputs": [],
   "source": [
    "def get_mode(series):\n",
    "    return series.mode().iloc[0]\n",
    "\n",
    "df_modal_imputed = df_masked.apply(lambda col: col.fillna(get_mode(col)))\n",
    "X_modal = transform_and_drop(df_modal_imputed)"
   ]
  },
  {
   "cell_type": "code",
   "execution_count": 95,
   "metadata": {},
   "outputs": [
    {
     "data": {
      "text/plain": [
       "np.float64(0.2552871884444088)"
      ]
     },
     "execution_count": 95,
     "metadata": {},
     "output_type": "execute_result"
    }
   ],
   "source": [
    "# MSE\n",
    "mse_modal = np.average(np.asarray(X_not_masked[test_mask_sparse] - X_modal[test_mask_sparse]).ravel() **2, weights=loss_weights)\n",
    "mse_modal"
   ]
  },
  {
   "cell_type": "markdown",
   "metadata": {},
   "source": [
    "### low rank approximation method!"
   ]
  },
  {
   "cell_type": "code",
   "execution_count": 120,
   "metadata": {},
   "outputs": [
    {
     "data": {
      "text/plain": [
       "device(type='cuda')"
      ]
     },
     "execution_count": 120,
     "metadata": {},
     "output_type": "execute_result"
    }
   ],
   "source": [
    "import torch\n",
    "import torch.optim as optim\n",
    "import torch.nn.functional as F\n",
    "\n",
    "def torch_avg(tensor, weights):\n",
    "    assert tensor.shape == weights.shape\n",
    "    return torch.sum(tensor * weights) / torch.sum(weights)\n",
    "\n",
    "device = torch.device(\"cuda\" if torch.cuda.is_available() else \"cpu\")\n",
    "device"
   ]
  },
  {
   "cell_type": "code",
   "execution_count": 121,
   "metadata": {},
   "outputs": [],
   "source": [
    "# Convert sparse matrices to PyTorch tensors\n",
    "X_combined_tensor = torch.tensor(X_combined.toarray(), dtype=torch.float32).to(device)\n",
    "test_mask_tensor = torch.tensor(test_mask_sparse.toarray(), dtype=torch.bool).to(device)\n",
    "train_mask_tensor = torch.tensor(original_mask, dtype=torch.bool).to(device) & ~test_mask_tensor\n",
    "\n",
    "train_mask_qs = torch.nonzero(train_mask_tensor)[:,1]\n",
    "loss_weights_train = torch.tensor(weights_expanded)[train_mask_qs.cpu()].to(device)"
   ]
  },
  {
   "cell_type": "code",
   "execution_count": 122,
   "metadata": {},
   "outputs": [
    {
     "name": "stdout",
     "output_type": "stream",
     "text": [
      "Epoch 0, Loss: 0.3157169818878174\n",
      "Epoch 1, Loss: 0.2808621823787689\n",
      "Epoch 2, Loss: 0.25307703018188477\n",
      "Epoch 3, Loss: 0.23464952409267426\n",
      "Epoch 4, Loss: 0.22256280481815338\n",
      "Epoch 5, Loss: 0.21221695840358734\n",
      "Epoch 6, Loss: 0.20023085176944733\n",
      "Epoch 7, Loss: 0.18765713274478912\n",
      "Epoch 8, Loss: 0.17891374230384827\n",
      "Epoch 9, Loss: 0.1747337132692337\n",
      "Epoch 10, Loss: 0.17210820317268372\n",
      "Epoch 11, Loss: 0.16962610185146332\n",
      "Epoch 12, Loss: 0.16751839220523834\n",
      "Epoch 13, Loss: 0.16572529077529907\n",
      "Epoch 14, Loss: 0.16383735835552216\n",
      "Epoch 15, Loss: 0.16209885478019714\n",
      "Epoch 16, Loss: 0.16056764125823975\n",
      "Epoch 17, Loss: 0.15906058251857758\n",
      "Epoch 18, Loss: 0.1577584147453308\n",
      "Epoch 19, Loss: 0.15664654970169067\n",
      "Epoch 20, Loss: 0.1555720418691635\n",
      "Epoch 21, Loss: 0.15451526641845703\n",
      "Epoch 22, Loss: 0.15351015329360962\n",
      "Epoch 23, Loss: 0.15251047909259796\n",
      "Epoch 24, Loss: 0.1515348106622696\n",
      "Epoch 25, Loss: 0.15062464773654938\n",
      "Epoch 26, Loss: 0.14973215758800507\n",
      "Epoch 27, Loss: 0.14886388182640076\n",
      "Epoch 28, Loss: 0.1480148434638977\n",
      "Epoch 29, Loss: 0.14724887907505035\n",
      "Epoch 30, Loss: 0.14655131101608276\n",
      "Epoch 31, Loss: 0.14588043093681335\n",
      "Epoch 32, Loss: 0.14528292417526245\n",
      "Epoch 33, Loss: 0.1447366327047348\n",
      "Epoch 34, Loss: 0.14420731365680695\n",
      "Epoch 35, Loss: 0.1437274068593979\n",
      "Epoch 36, Loss: 0.14330875873565674\n",
      "Epoch 37, Loss: 0.1429164856672287\n",
      "Epoch 38, Loss: 0.14255793392658234\n",
      "Epoch 39, Loss: 0.14225567877292633\n",
      "Epoch 40, Loss: 0.1419709175825119\n",
      "Epoch 41, Loss: 0.1416769027709961\n",
      "Epoch 42, Loss: 0.14141525328159332\n",
      "Epoch 43, Loss: 0.1412072330713272\n",
      "Epoch 44, Loss: 0.14102599024772644\n",
      "Epoch 45, Loss: 0.14085233211517334\n",
      "Epoch 46, Loss: 0.14068278670310974\n",
      "Epoch 47, Loss: 0.1405104547739029\n",
      "Epoch 48, Loss: 0.14033938944339752\n",
      "Epoch 49, Loss: 0.14018094539642334\n"
     ]
    }
   ],
   "source": [
    "# Hyperparameters\n",
    "rank = 5  # Rank of the approximation (adjust as needed)\n",
    "learning_rate = 0.2\n",
    "epochs = 50\n",
    "\n",
    "# Initialize low-rank matrices B and C\n",
    "n_users, n_features = X_combined.shape\n",
    "B = torch.randn(n_users, rank, requires_grad=True, device=device)\n",
    "C = torch.randn(rank, n_features, requires_grad=True, device=device)\n",
    "X_hat = torch.mm(B, C)\n",
    "\n",
    "# Optimizer\n",
    "optimizer = optim.Adam([B, C], lr=learning_rate)\n",
    "\n",
    "@torch.compile\n",
    "def split_and_softmax(X):\n",
    "    split_sizes = [border_indices[0]] + \\\n",
    "                [border_indices[i+1] - border_indices[i] for i in range(len(border_indices)-1)] + \\\n",
    "                [q_df.shape[1] - border_indices[-1]]\n",
    "\n",
    "    split_sizes = [item * (i+2) for i, item in enumerate(split_sizes)]\n",
    "    split_tensors = torch.split(X, split_sizes, dim=1)\n",
    "\n",
    "    processed_tensors = []\n",
    "    for i, tensor in enumerate(split_tensors):\n",
    "        options_per_question = 2 + i  # 2 for first split, 3 for second, 4 for third\n",
    "        n_questions = tensor.shape[1] // options_per_question\n",
    "        \n",
    "        # Reshape to (n_users, n_questions, options_per_question)\n",
    "        reshaped = tensor.view(-1, n_questions, options_per_question)\n",
    "        \n",
    "        # Apply softmax along the last dimension\n",
    "        softmaxed = F.softmax(reshaped, dim=-1)\n",
    "        processed_tensors.append(softmaxed)\n",
    "    \n",
    "    flattened_tensors = [tensor.view(tensor.shape[0], -1) for tensor in processed_tensors]\n",
    "    X_softmaxed = torch.cat(flattened_tensors, dim=1)\n",
    "    return X_softmaxed\n",
    "\n",
    "# Training loop\n",
    "# @torch.compile\n",
    "def train_loop():\n",
    "    for epoch in range(epochs):\n",
    "        optimizer.zero_grad()\n",
    "        \n",
    "        # Reconstruct X_hat = B @ C\n",
    "        X_hat = torch.mm(B, C)\n",
    "        X_hat = split_and_softmax(X_hat) # this is the right inductive bias and it also dratically lowers the loss\n",
    "\n",
    "        # Compute loss only on observed entries (not masked for testing)\n",
    "        loss = torch_avg((X_hat[train_mask_tensor] - X_combined_tensor[train_mask_tensor]) ** 2, weights=loss_weights_train)\n",
    "        \n",
    "        # Backpropagation\n",
    "        loss.backward()\n",
    "        optimizer.step()\n",
    "        \n",
    "        print(f\"Epoch {epoch}, Loss: {loss.item()}\")\n",
    "    return X_hat\n",
    "\n",
    "X_hat = train_loop()"
   ]
  },
  {
   "cell_type": "code",
   "execution_count": 125,
   "metadata": {},
   "outputs": [
    {
     "data": {
      "text/plain": [
       "(1, 10444820)"
      ]
     },
     "execution_count": 125,
     "metadata": {},
     "output_type": "execute_result"
    }
   ],
   "source": [
    "loss_weights.shape\n",
    "((test_values - imputed_test_values) ** 2).shape"
   ]
  },
  {
   "cell_type": "code",
   "execution_count": 127,
   "metadata": {},
   "outputs": [
    {
     "name": "stdout",
     "output_type": "stream",
     "text": [
      "Low-rank MSE: 0.1480011874856543\n"
     ]
    }
   ],
   "source": [
    "\n",
    "# After training, use X_hat to impute missing values\n",
    "X_imputed = X_hat.detach().cpu().numpy()\n",
    "\n",
    "# Evaluate on test set\n",
    "test_values = np.asarray(X_not_masked[test_mask_sparse])\n",
    "imputed_test_values = X_imputed[test_mask_sparse.toarray()]\n",
    "\n",
    "mse_low_rank = np.average(((test_values - imputed_test_values) ** 2).ravel(), weights=loss_weights)\n",
    "print(f\"Low-rank MSE: {mse_low_rank}\")"
   ]
  },
  {
   "cell_type": "markdown",
   "metadata": {
    "jp-MarkdownHeadingCollapsed": true
   },
   "source": [
    "### autoencoder"
   ]
  },
  {
   "cell_type": "code",
   "execution_count": 45,
   "metadata": {},
   "outputs": [
    {
     "name": "stdout",
     "output_type": "stream",
     "text": [
      "Epoch [1/5], Average Loss: 0.1499\n",
      "Epoch [2/5], Average Loss: 0.1291\n",
      "Epoch [3/5], Average Loss: 0.1226\n",
      "Epoch [4/5], Average Loss: 0.1174\n",
      "Epoch [5/5], Average Loss: 0.1133\n"
     ]
    }
   ],
   "source": [
    "import torch\n",
    "import torch.nn as nn\n",
    "import torch.optim as optim\n",
    "from torch.utils.data import DataLoader, TensorDataset\n",
    "\n",
    "# # Convert data to PyTorch tensors\n",
    "# X_combined_tensor = torch.tensor(X_combined.toarray(), dtype=torch.float32)\n",
    "# original_mask_tensor = torch.tensor(original_mask, dtype=torch.float32)\n",
    "# test_mask_tensor = torch.tensor(test_mask_sparse.toarray(), dtype=torch.float32)\n",
    "\n",
    "# # Create a training mask: original data present but not in test set\n",
    "# train_mask_tensor = original_mask_tensor * (1 - test_mask_tensor)\n",
    "\n",
    "# Autoencoder architecture (same as before)\n",
    "class Autoencoder(nn.Module):\n",
    "    def __init__(self, input_dim, encoding_dim):\n",
    "        super(Autoencoder, self).__init__()\n",
    "        self.encoder = nn.Sequential(\n",
    "            nn.Linear(input_dim, 512),\n",
    "            nn.ReLU(),\n",
    "            nn.Linear(512, 256),\n",
    "            nn.ReLU(),\n",
    "            nn.Linear(256, encoding_dim)\n",
    "        )\n",
    "        self.decoder = nn.Sequential(\n",
    "            nn.Linear(encoding_dim, 256),\n",
    "            nn.ReLU(),\n",
    "            nn.Linear(256, 512),\n",
    "            nn.ReLU(),\n",
    "            nn.Linear(512, input_dim),\n",
    "            nn.Sigmoid()\n",
    "        )\n",
    "\n",
    "    def forward(self, x):\n",
    "        encoded = self.encoder(x)\n",
    "        decoded = self.decoder(encoded)\n",
    "        return decoded\n",
    "\n",
    "# Hyperparameters\n",
    "input_dim = X_combined_tensor.shape[1]\n",
    "encoding_dim = 64\n",
    "batch_size = 256\n",
    "learning_rate = 0.001\n",
    "epochs = 5\n",
    "\n",
    "# Create the autoencoder model\n",
    "model = Autoencoder(input_dim, encoding_dim).to(device)\n",
    "\n",
    "# Loss function and optimizer\n",
    "criterion = nn.MSELoss(reduction='sum')\n",
    "optimizer = optim.Adam(model.parameters(), lr=learning_rate)\n",
    "\n",
    "# Create DataLoader\n",
    "dataset = TensorDataset(X_combined_tensor, train_mask_tensor)\n",
    "dataloader = DataLoader(dataset, batch_size=batch_size, shuffle=True)\n",
    "\n",
    "# Training loop\n",
    "for epoch in range(epochs):\n",
    "    total_loss = 0\n",
    "    for batch_x, batch_train_mask in dataloader:\n",
    "        # Forward pass\n",
    "        outputs = model(batch_x)\n",
    "        \n",
    "        # Compute loss only on non-masked, non-test values\n",
    "        loss = criterion(outputs * batch_train_mask, batch_x * batch_train_mask)\n",
    "        loss = loss / batch_train_mask.sum()  # Normalize by number of non-masked elements\n",
    "        \n",
    "        # Backward pass and optimize\n",
    "        optimizer.zero_grad()\n",
    "        loss.backward()\n",
    "        optimizer.step()\n",
    "        \n",
    "        total_loss += loss.item() * batch_train_mask.sum()\n",
    "    \n",
    "    avg_loss = total_loss / train_mask_tensor.sum()\n",
    "    print(f'Epoch [{epoch+1}/{epochs}], Average Loss: {avg_loss:.4f}')"
   ]
  },
  {
   "cell_type": "code",
   "execution_count": 33,
   "metadata": {},
   "outputs": [
    {
     "name": "stdout",
     "output_type": "stream",
     "text": [
      "Autoencoder MSE: 0.13427468260616784\n"
     ]
    }
   ],
   "source": [
    "\n",
    "# Use the trained model for imputation\n",
    "model.eval()\n",
    "with torch.no_grad():\n",
    "    imputed_data = model(X_combined_tensor)\n",
    "\n",
    "# Extract imputed values for the test set\n",
    "imputed_test_values = imputed_data[test_mask_tensor.bool()].numpy()\n",
    "true_test_values = np.asarray(X_not_masked[test_mask_sparse])\n",
    "\n",
    "# Compute MSE for the autoencoder method\n",
    "mse_autoencoder = ((true_test_values - imputed_test_values) ** 2).mean()\n",
    "print(f\"Autoencoder MSE: {mse_autoencoder}\")"
   ]
  },
  {
   "cell_type": "markdown",
   "metadata": {},
   "source": [
    "### autoencoder without minibatching"
   ]
  },
  {
   "cell_type": "code",
   "execution_count": 51,
   "metadata": {},
   "outputs": [
    {
     "name": "stdout",
     "output_type": "stream",
     "text": [
      "Epoch [10/100], Loss: 0.1679\n",
      "Epoch [20/100], Loss: 0.1625\n",
      "Epoch [30/100], Loss: 0.1606\n",
      "Epoch [40/100], Loss: 0.1595\n",
      "Epoch [50/100], Loss: 0.1565\n",
      "Epoch [60/100], Loss: 0.1506\n",
      "Epoch [70/100], Loss: 0.1472\n",
      "Epoch [80/100], Loss: 0.1448\n",
      "Epoch [90/100], Loss: 0.1422\n",
      "Epoch [100/100], Loss: 0.1399\n",
      "Autoencoder MSE: 0.14354146827434908\n"
     ]
    }
   ],
   "source": [
    "import torch\n",
    "import torch.nn as nn\n",
    "import torch.optim as optim\n",
    "import torch.nn.functional as F\n",
    "\n",
    "# # Convert data to PyTorch tensors (if not already done)\n",
    "# X_combined_tensor = torch.tensor(X_combined.toarray(), dtype=torch.float32)\n",
    "# original_mask_tensor = torch.tensor(original_mask, dtype=torch.float32)\n",
    "# test_mask_tensor = torch.tensor(test_mask_sparse.toarray(), dtype=torch.float32)\n",
    "\n",
    "# # Create a training mask: original data present but not in test set\n",
    "# train_mask_tensor = original_mask_tensor * (1 - test_mask_tensor)\n",
    "\n",
    "# Autoencoder architecture\n",
    "class Autoencoder(nn.Module):\n",
    "    def __init__(self, input_dim, encoding_dim):\n",
    "        super(Autoencoder, self).__init__()\n",
    "        self.encoder = nn.Sequential(\n",
    "            nn.Linear(input_dim, 512),\n",
    "            nn.ReLU(),\n",
    "            nn.Linear(512, 256),\n",
    "            nn.ReLU(),\n",
    "            nn.Linear(256, encoding_dim)\n",
    "        )\n",
    "        self.decoder = nn.Sequential(\n",
    "            nn.Linear(encoding_dim, 256),\n",
    "            nn.ReLU(),\n",
    "            nn.Linear(256, 512),\n",
    "            nn.ReLU(),\n",
    "            nn.Linear(512, input_dim)\n",
    "        )\n",
    "\n",
    "    def forward(self, x):\n",
    "        encoded = self.encoder(x)\n",
    "        decoded = self.decoder(encoded)\n",
    "        return decoded\n",
    "\n",
    "# Softmax function (same as in low-rank approximation)\n",
    "@torch.compile\n",
    "def split_and_softmax(X):\n",
    "    split_sizes = [border_indices[0]] + \\\n",
    "                [border_indices[i+1] - border_indices[i] for i in range(len(border_indices)-1)] + \\\n",
    "                [q_df.shape[1] - border_indices[-1]]\n",
    "\n",
    "    split_sizes = [item * (i+2) for i, item in enumerate(split_sizes)]\n",
    "    split_tensors = torch.split(X, split_sizes, dim=1)\n",
    "\n",
    "    processed_tensors = []\n",
    "    for i, tensor in enumerate(split_tensors):\n",
    "        options_per_question = 2 + i  # 2 for first split, 3 for second, 4 for third\n",
    "        n_questions = tensor.shape[1] // options_per_question\n",
    "        \n",
    "        # Reshape to (n_users, n_questions, options_per_question)\n",
    "        reshaped = tensor.view(-1, n_questions, options_per_question)\n",
    "        \n",
    "        # Apply softmax along the last dimension\n",
    "        softmaxed = F.softmax(reshaped, dim=-1)\n",
    "        processed_tensors.append(softmaxed)\n",
    "    \n",
    "    flattened_tensors = [tensor.view(tensor.shape[0], -1) for tensor in processed_tensors]\n",
    "    X_softmaxed = torch.cat(flattened_tensors, dim=1)\n",
    "    return X_softmaxed\n",
    "\n",
    "# Hyperparameters\n",
    "input_dim = X_combined_tensor.shape[1]\n",
    "encoding_dim = 64\n",
    "learning_rate = 0.001\n",
    "epochs = 100  # Increase epochs since we're not minibatching\n",
    "\n",
    "# Create the autoencoder model\n",
    "model = Autoencoder(input_dim, encoding_dim).to(device)\n",
    "\n",
    "# Loss function and optimizer\n",
    "criterion = nn.MSELoss(reduction='sum')\n",
    "optimizer = optim.Adam(model.parameters(), lr=learning_rate)\n",
    "\n",
    "# Training loop\n",
    "for epoch in range(epochs):\n",
    "    # Forward pass\n",
    "    outputs = model(X_combined_tensor)\n",
    "    outputs_softmax = split_and_softmax(outputs)\n",
    "    \n",
    "    # Compute loss only on non-masked, non-test values\n",
    "    loss = criterion(outputs_softmax * train_mask_tensor, X_combined_tensor * train_mask_tensor)\n",
    "    loss = loss / train_mask_tensor.sum()  # Normalize by number of non-masked elements\n",
    "    \n",
    "    # Backward pass and optimize\n",
    "    optimizer.zero_grad()\n",
    "    loss.backward()\n",
    "    optimizer.step()\n",
    "    \n",
    "    if (epoch + 1) % 10 == 0:\n",
    "        print(f'Epoch [{epoch+1}/{epochs}], Loss: {loss.item():.4f}')\n",
    "\n",
    "# Use the trained model for imputation\n",
    "model.eval()\n",
    "with torch.no_grad():\n",
    "    imputed_data = model(X_combined_tensor)\n",
    "    imputed_data_softmax = split_and_softmax(imputed_data)\n",
    "\n",
    "# Extract imputed values for the test set\n",
    "imputed_test_values = imputed_data_softmax[test_mask_tensor.bool()].cpu().numpy()\n",
    "true_test_values = np.asarray(X_not_masked[test_mask_sparse])\n",
    "\n",
    "# Compute MSE for the autoencoder method\n",
    "mse_autoencoder = ((true_test_values - imputed_test_values) ** 2).mean()\n",
    "print(f\"Autoencoder MSE: {mse_autoencoder}\")"
   ]
  },
  {
   "cell_type": "markdown",
   "metadata": {},
   "source": [
    "### compare MSE's"
   ]
  },
  {
   "cell_type": "code",
   "execution_count": 46,
   "metadata": {},
   "outputs": [
    {
     "name": "stderr",
     "output_type": "stream",
     "text": [
      "/var/folders/9d/j5yw54ld78qdvpkxky67ldz40000gn/T/ipykernel_12511/1103924213.py:15: FutureWarning: \n",
      "\n",
      "Passing `palette` without assigning `hue` is deprecated and will be removed in v0.14.0. Assign the `x` variable to `hue` and set `legend=False` for the same effect.\n",
      "\n",
      "  sns.barplot(x=e_series.index, y=e_series.values, palette='viridis')\n"
     ]
    },
    {
     "data": {
      "image/png": "[encoded data removed]",
      "text/plain": [
       "<Figure size 1000x600 with 1 Axes>"
      ]
     },
     "metadata": {},
     "output_type": "display_data"
    }
   ],
   "source": [
    "import seaborn as sns\n",
    "import matplotlib.pyplot as plt\n",
    "\n",
    "errors = {\"autoencoder\": mse_autoencoder,\n",
    "'constant': mse_constant,\n",
    "'lowrank': mse_low_rank,\n",
    "'modal': mse_modal,\n",
    "'naive': mse_naive,\n",
    "'naive2': mse_naive2,\n",
    "'random': mse_random}\n",
    "\n",
    "e_series = pd.Series(errors).sort_values()\n",
    "\n",
    "plt.figure(figsize=(10,6))\n",
    "sns.barplot(x=e_series.index, y=e_series.values, palette='viridis')\n",
    "plt.title('Mean Squared Error by Imputation Method')\n",
    "plt.xlabel('Imputation Method')\n",
    "plt.ylabel('Mean Squared Error')\n",
    "plt.xticks(rotation=45)\n",
    "plt.tight_layout()\n",
    "\n",
    "plt.savefig('../outputs/imputers.png')\n",
    "\n",
    "plt.show()"
   ]
  },
  {
   "cell_type": "code",
   "execution_count": null,
   "metadata": {},
   "outputs": [],
   "source": []
  }
 ],
 "metadata": {
  "kernelspec": {
   "display_name": "rapids",
   "language": "python",
   "name": "rapids"
  },
  "language_info": {
   "codemirror_mode": {
    "name": "ipython",
    "version": 3
   },
   "file_extension": ".py",
   "mimetype": "text/x-python",
   "name": "python",
   "nbconvert_exporter": "python",
   "pygments_lexer": "ipython3",
   "version": "3.12.10"
  }
 },
 "nbformat": 4,
 "nbformat_minor": 4
}
