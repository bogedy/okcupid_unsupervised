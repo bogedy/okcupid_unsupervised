{
 "cells": [
  {
   "metadata": {
    "ExecuteTime": {
     "end_time": "2025-03-13T13:18:39.618Z",
     "start_time": "2025-03-13T13:18:39.602968Z"
    }
   },
   "cell_type": "code",
   "source": [
    "import matplotlib\n",
    "# Try one of these backends\n",
    "matplotlib.use('TkAgg')  # or 'Qt5Agg' or 'Agg'\n",
    "\n",
    "import matplotlib.pyplot as plt"
   ],
   "id": "318025ca93eb72",
   "outputs": [],
   "execution_count": 2
  },
  {
   "metadata": {
    "collapsed": true,
    "ExecuteTime": {
     "end_time": "2025-03-13T13:18:40.409483Z",
     "start_time": "2025-03-13T13:18:39.633639Z"
    }
   },
   "cell_type": "code",
   "source": [
    "import pandas as pd\n",
    "import numpy"
   ],
   "id": "initial_id",
   "outputs": [],
   "execution_count": 3
  },
  {
   "metadata": {
    "ExecuteTime": {
     "end_time": "2025-03-13T13:18:41.765418Z",
     "start_time": "2025-03-13T13:18:40.425465Z"
    }
   },
   "cell_type": "code",
   "source": [
    "# main data file\n",
    "file_path = '../data/data.feather'\n",
    "\n",
    "df = pd.read_feather(file_path)"
   ],
   "id": "fd344bbd360d5bd9",
   "outputs": [],
   "execution_count": 4
  },
  {
   "metadata": {
    "ExecuteTime": {
     "end_time": "2025-03-13T13:18:41.886058Z",
     "start_time": "2025-03-13T13:18:41.854753Z"
    }
   },
   "cell_type": "code",
   "source": "df.columns",
   "id": "b69cc5ffba10362",
   "outputs": [
    {
     "data": {
      "text/plain": [
       "Index(['q2', 'q11', 'q12', 'q13', 'q14', 'q16', 'q17', 'q18', 'q20', 'q22',\n",
       "       ...\n",
       "       'q86615', 'q86699', 'q363047', 'CA', 'gender_orientation', 'gender',\n",
       "       'race', 'gender2', 'gender2_num', 'CA_items'],\n",
       "      dtype='object', length=2625)"
      ]
     },
     "execution_count": 5,
     "metadata": {},
     "output_type": "execute_result"
    }
   ],
   "execution_count": 5
  },
  {
   "metadata": {
    "ExecuteTime": {
     "end_time": "2025-03-13T13:21:59.161653Z",
     "start_time": "2025-03-13T13:21:57.202976Z"
    }
   },
   "cell_type": "code",
   "source": [
    "import os\n",
    "import pickle\n",
    "\n",
    "topic2cnt = {}\n",
    "for filename in os.listdir(\"../outputs\"):\n",
    "    if filename.endswith('.pkl'):  # Check if the file is a .pkl file\n",
    "        file_path = os.path.join(\"../outputs\", filename)\n",
    "\n",
    "        # Load the .pkl file and append the loaded list\n",
    "        with open(file_path, 'rb') as f:\n",
    "            categorical_cols = pickle.load(f)\n",
    "            nan_counts = df[categorical_cols].isna().sum()\n",
    "            total_counts = df[categorical_cols].count()\n",
    "            topic2cnt[filename] = int(nan_counts.sum())/int(total_counts.sum())\n",
    "print(topic2cnt)\n"
   ],
   "id": "bffd1d107473c732",
   "outputs": [
    {
     "name": "stdout",
     "output_type": "stream",
     "text": [
      "{'BDSM_cols_index.pkl': 3.1824373234913286, 'cognitive_cols_index.pkl': 2.8056042425591783, 'descriptive_cols_index.pkl': 3.577300599667497, 'opinion_cols_index.pkl': 4.24929427205286, 'politics_cols_index.pkl': 4.95556018689834, 'preference_cols_index.pkl': 3.439449422343907, 'religion_superstition_cols_index.pkl': 3.7332292736809656, 'sex_intimacy_cols_index.pkl': 2.3800715249979474, 'technology_cols_index.pkl': 3.605020823433004}\n"
     ]
    }
   ],
   "execution_count": 8
  },
  {
   "metadata": {
    "ExecuteTime": {
     "end_time": "2025-03-13T13:23:30.053116Z",
     "start_time": "2025-03-13T13:22:23.892793Z"
    }
   },
   "cell_type": "code",
   "source": [
    "import matplotlib.pyplot as plt\n",
    "\n",
    "sorted_nan_counts = dict(sorted(nan_counts.items(), key=lambda item: item[1], reverse=True))\n",
    "\n",
    "# Create the plot\n",
    "plt.figure(figsize=(12, 6))  # Adjust size as needed\n",
    "\n",
    "# Option 1: Using matplotlib\n",
    "plt.bar(topic2cnt.keys(), topic2cnt.values())\n",
    "\n",
    "# Rotate x-axis labels if you have many columns\n",
    "plt.xticks(rotation=90)\n",
    "\n",
    "# Add labels and title\n",
    "plt.xlabel('Columns')\n",
    "plt.ylabel('Number of NaN Values')\n",
    "plt.title('NaN Count by Column')\n",
    "\n",
    "# Adjust layout to prevent label cutoff\n",
    "plt.tight_layout()\n",
    "\n",
    "# Display the plot\n",
    "plt.show()"
   ],
   "id": "42bdf73c59e09973",
   "outputs": [],
   "execution_count": 9
  },
  {
   "metadata": {
    "ExecuteTime": {
     "end_time": "2025-03-13T13:21:18.334708Z",
     "start_time": "2025-03-13T13:21:18.319092Z"
    }
   },
   "cell_type": "code",
   "source": "",
   "id": "83ef5e0abd6fc7aa",
   "outputs": [],
   "execution_count": null
  },
  {
   "metadata": {
    "ExecuteTime": {
     "end_time": "2025-03-13T13:21:18.593869Z",
     "start_time": "2025-03-13T13:21:18.578195Z"
    }
   },
   "cell_type": "code",
   "source": "",
   "id": "ad4ce0b63fffbd4f",
   "outputs": [],
   "execution_count": null
  }
 ],
 "metadata": {
  "kernelspec": {
   "display_name": "Python 3",
   "language": "python",
   "name": "python3"
  },
  "language_info": {
   "codemirror_mode": {
    "name": "ipython",
    "version": 2
   },
   "file_extension": ".py",
   "mimetype": "text/x-python",
   "name": "python",
   "nbconvert_exporter": "python",
   "pygments_lexer": "ipython2",
   "version": "2.7.6"
  }
 },
 "nbformat": 4,
 "nbformat_minor": 5
}
