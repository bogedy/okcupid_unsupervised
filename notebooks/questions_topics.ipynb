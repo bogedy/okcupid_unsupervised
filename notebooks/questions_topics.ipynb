{
 "cells": [
  {
   "metadata": {
    "ExecuteTime": {
     "end_time": "2025-03-13T12:46:55.622612Z",
     "start_time": "2025-03-13T12:46:55.606689Z"
    }
   },
   "cell_type": "code",
   "source": [
    "import os\n",
    "\n",
    "import pandas as pd\n",
    "import numpy as np\n",
    "import matplotlib.pyplot as plt\n"
   ],
   "id": "d19e818d3f587541",
   "outputs": [],
   "execution_count": 1
  },
  {
   "metadata": {
    "collapsed": true,
    "ExecuteTime": {
     "end_time": "2025-03-13T12:46:55.654188Z",
     "start_time": "2025-03-13T12:46:55.622612Z"
    }
   },
   "cell_type": "code",
   "source": "df_questions = pd.read_csv('../data/question_data.csv', sep=';', index_col=0)",
   "id": "initial_id",
   "outputs": [],
   "execution_count": 2
  },
  {
   "metadata": {
    "ExecuteTime": {
     "end_time": "2025-03-13T12:46:55.875829Z",
     "start_time": "2025-03-13T12:46:55.844094Z"
    }
   },
   "cell_type": "code",
   "source": "display(df_questions.head())",
   "id": "4d2b5f15bb9c57ed",
   "outputs": [
    {
     "data": {
      "text/plain": [
       "                                                  text  \\\n",
       "q2                                    Breast implants?   \n",
       "q11  How does the idea of being slapped hard in the...   \n",
       "q12  Divide your age by 2.  Have you had sex with a...   \n",
       "q13  Is a girl who's slept with 100 guys a bad person?   \n",
       "q14  Is a guy who's slept with 100 girls a bad person?   \n",
       "\n",
       "                    option_1                 option_2   option_3     option_4  \\\n",
       "q2   more cool than pathetic  more pathetic than cool        NaN          NaN   \n",
       "q11                Horrified                  Aroused  Nostalgic  Indifferent   \n",
       "q12                      Yes                       No        NaN          NaN   \n",
       "q13                      Yes                       No        NaN          NaN   \n",
       "q14                      Yes                       No        NaN          NaN   \n",
       "\n",
       "         N Type Order                           Keywords  \n",
       "q2   24839    N   NaN  sex/intimacy; preference; opinion  \n",
       "q11  28860    N   NaN                       sex/intimacy  \n",
       "q12  22496    O   NaN                       sex/intimacy  \n",
       "q13  32581    O   NaN                       sex/intimacy  \n",
       "q14  31127    O   NaN                       sex/intimacy  "
      ],
      "text/html": [
       "<div>\n",
       "<style scoped>\n",
       "    .dataframe tbody tr th:only-of-type {\n",
       "        vertical-align: middle;\n",
       "    }\n",
       "\n",
       "    .dataframe tbody tr th {\n",
       "        vertical-align: top;\n",
       "    }\n",
       "\n",
       "    .dataframe thead th {\n",
       "        text-align: right;\n",
       "    }\n",
       "</style>\n",
       "<table border=\"1\" class=\"dataframe\">\n",
       "  <thead>\n",
       "    <tr style=\"text-align: right;\">\n",
       "      <th></th>\n",
       "      <th>text</th>\n",
       "      <th>option_1</th>\n",
       "      <th>option_2</th>\n",
       "      <th>option_3</th>\n",
       "      <th>option_4</th>\n",
       "      <th>N</th>\n",
       "      <th>Type</th>\n",
       "      <th>Order</th>\n",
       "      <th>Keywords</th>\n",
       "    </tr>\n",
       "  </thead>\n",
       "  <tbody>\n",
       "    <tr>\n",
       "      <th>q2</th>\n",
       "      <td>Breast implants?</td>\n",
       "      <td>more cool than pathetic</td>\n",
       "      <td>more pathetic than cool</td>\n",
       "      <td>NaN</td>\n",
       "      <td>NaN</td>\n",
       "      <td>24839</td>\n",
       "      <td>N</td>\n",
       "      <td>NaN</td>\n",
       "      <td>sex/intimacy; preference; opinion</td>\n",
       "    </tr>\n",
       "    <tr>\n",
       "      <th>q11</th>\n",
       "      <td>How does the idea of being slapped hard in the...</td>\n",
       "      <td>Horrified</td>\n",
       "      <td>Aroused</td>\n",
       "      <td>Nostalgic</td>\n",
       "      <td>Indifferent</td>\n",
       "      <td>28860</td>\n",
       "      <td>N</td>\n",
       "      <td>NaN</td>\n",
       "      <td>sex/intimacy</td>\n",
       "    </tr>\n",
       "    <tr>\n",
       "      <th>q12</th>\n",
       "      <td>Divide your age by 2.  Have you had sex with a...</td>\n",
       "      <td>Yes</td>\n",
       "      <td>No</td>\n",
       "      <td>NaN</td>\n",
       "      <td>NaN</td>\n",
       "      <td>22496</td>\n",
       "      <td>O</td>\n",
       "      <td>NaN</td>\n",
       "      <td>sex/intimacy</td>\n",
       "    </tr>\n",
       "    <tr>\n",
       "      <th>q13</th>\n",
       "      <td>Is a girl who's slept with 100 guys a bad person?</td>\n",
       "      <td>Yes</td>\n",
       "      <td>No</td>\n",
       "      <td>NaN</td>\n",
       "      <td>NaN</td>\n",
       "      <td>32581</td>\n",
       "      <td>O</td>\n",
       "      <td>NaN</td>\n",
       "      <td>sex/intimacy</td>\n",
       "    </tr>\n",
       "    <tr>\n",
       "      <th>q14</th>\n",
       "      <td>Is a guy who's slept with 100 girls a bad person?</td>\n",
       "      <td>Yes</td>\n",
       "      <td>No</td>\n",
       "      <td>NaN</td>\n",
       "      <td>NaN</td>\n",
       "      <td>31127</td>\n",
       "      <td>O</td>\n",
       "      <td>NaN</td>\n",
       "      <td>sex/intimacy</td>\n",
       "    </tr>\n",
       "  </tbody>\n",
       "</table>\n",
       "</div>"
      ]
     },
     "metadata": {},
     "output_type": "display_data"
    }
   ],
   "execution_count": 3
  },
  {
   "metadata": {
    "ExecuteTime": {
     "end_time": "2025-03-13T12:46:55.922707Z",
     "start_time": "2025-03-13T12:46:55.891457Z"
    }
   },
   "cell_type": "code",
   "source": [
    "# Get all unique values in the 'Keywords' column\n",
    "all_keywords = df_questions['Keywords'].str.split(';').explode().unique()\n",
    "\n",
    "all_keywords = set([k.replace(' ', '') for k in all_keywords if k is not np.nan])\n",
    "# Display the unique keywords\n",
    "print(all_keywords)"
   ],
   "id": "e942b83f2cc2d972",
   "outputs": [
    {
     "name": "stdout",
     "output_type": "stream",
     "text": [
      "{'descriptive', 'cognitive', 'BDSM', 'technology', 'politics', 'religion/superstition', 'preference', 'sex/intimacy', 'opinion'}\n"
     ]
    }
   ],
   "execution_count": 4
  },
  {
   "metadata": {
    "ExecuteTime": {
     "end_time": "2025-03-13T12:46:56.220103Z",
     "start_time": "2025-03-13T12:46:56.000851Z"
    }
   },
   "cell_type": "code",
   "source": [
    "for index, row in df_questions.iterrows():\n",
    "    keywords = row['Keywords']\n",
    "    if keywords is np.nan:\n",
    "        continue\n",
    "    for k in all_keywords:\n",
    "        if k in keywords:\n",
    "            df_questions.at[index, k] = 1\n",
    "            continue"
   ],
   "id": "df7521bcc979f14b",
   "outputs": [],
   "execution_count": 5
  },
  {
   "metadata": {
    "ExecuteTime": {
     "end_time": "2025-03-13T12:46:56.267351Z",
     "start_time": "2025-03-13T12:46:56.235737Z"
    }
   },
   "cell_type": "code",
   "source": [
    "df_questions[list(all_keywords)] = df_questions[list(all_keywords)].fillna(0)\n",
    "display(df_questions.head())"
   ],
   "id": "c9d6b112c49ab0eb",
   "outputs": [
    {
     "data": {
      "text/plain": [
       "                                                  text  \\\n",
       "q2                                    Breast implants?   \n",
       "q11  How does the idea of being slapped hard in the...   \n",
       "q12  Divide your age by 2.  Have you had sex with a...   \n",
       "q13  Is a girl who's slept with 100 guys a bad person?   \n",
       "q14  Is a guy who's slept with 100 girls a bad person?   \n",
       "\n",
       "                    option_1                 option_2   option_3     option_4  \\\n",
       "q2   more cool than pathetic  more pathetic than cool        NaN          NaN   \n",
       "q11                Horrified                  Aroused  Nostalgic  Indifferent   \n",
       "q12                      Yes                       No        NaN          NaN   \n",
       "q13                      Yes                       No        NaN          NaN   \n",
       "q14                      Yes                       No        NaN          NaN   \n",
       "\n",
       "         N Type Order                           Keywords  preference  \\\n",
       "q2   24839    N   NaN  sex/intimacy; preference; opinion         1.0   \n",
       "q11  28860    N   NaN                       sex/intimacy         0.0   \n",
       "q12  22496    O   NaN                       sex/intimacy         0.0   \n",
       "q13  32581    O   NaN                       sex/intimacy         0.0   \n",
       "q14  31127    O   NaN                       sex/intimacy         0.0   \n",
       "\n",
       "     sex/intimacy  opinion  BDSM  religion/superstition  descriptive  \\\n",
       "q2            1.0      1.0   0.0                    0.0          0.0   \n",
       "q11           1.0      0.0   0.0                    0.0          0.0   \n",
       "q12           1.0      0.0   0.0                    0.0          0.0   \n",
       "q13           1.0      0.0   0.0                    0.0          0.0   \n",
       "q14           1.0      0.0   0.0                    0.0          0.0   \n",
       "\n",
       "     politics  cognitive  technology  \n",
       "q2        0.0        0.0         0.0  \n",
       "q11       0.0        0.0         0.0  \n",
       "q12       0.0        0.0         0.0  \n",
       "q13       0.0        0.0         0.0  \n",
       "q14       0.0        0.0         0.0  "
      ],
      "text/html": [
       "<div>\n",
       "<style scoped>\n",
       "    .dataframe tbody tr th:only-of-type {\n",
       "        vertical-align: middle;\n",
       "    }\n",
       "\n",
       "    .dataframe tbody tr th {\n",
       "        vertical-align: top;\n",
       "    }\n",
       "\n",
       "    .dataframe thead th {\n",
       "        text-align: right;\n",
       "    }\n",
       "</style>\n",
       "<table border=\"1\" class=\"dataframe\">\n",
       "  <thead>\n",
       "    <tr style=\"text-align: right;\">\n",
       "      <th></th>\n",
       "      <th>text</th>\n",
       "      <th>option_1</th>\n",
       "      <th>option_2</th>\n",
       "      <th>option_3</th>\n",
       "      <th>option_4</th>\n",
       "      <th>N</th>\n",
       "      <th>Type</th>\n",
       "      <th>Order</th>\n",
       "      <th>Keywords</th>\n",
       "      <th>preference</th>\n",
       "      <th>sex/intimacy</th>\n",
       "      <th>opinion</th>\n",
       "      <th>BDSM</th>\n",
       "      <th>religion/superstition</th>\n",
       "      <th>descriptive</th>\n",
       "      <th>politics</th>\n",
       "      <th>cognitive</th>\n",
       "      <th>technology</th>\n",
       "    </tr>\n",
       "  </thead>\n",
       "  <tbody>\n",
       "    <tr>\n",
       "      <th>q2</th>\n",
       "      <td>Breast implants?</td>\n",
       "      <td>more cool than pathetic</td>\n",
       "      <td>more pathetic than cool</td>\n",
       "      <td>NaN</td>\n",
       "      <td>NaN</td>\n",
       "      <td>24839</td>\n",
       "      <td>N</td>\n",
       "      <td>NaN</td>\n",
       "      <td>sex/intimacy; preference; opinion</td>\n",
       "      <td>1.0</td>\n",
       "      <td>1.0</td>\n",
       "      <td>1.0</td>\n",
       "      <td>0.0</td>\n",
       "      <td>0.0</td>\n",
       "      <td>0.0</td>\n",
       "      <td>0.0</td>\n",
       "      <td>0.0</td>\n",
       "      <td>0.0</td>\n",
       "    </tr>\n",
       "    <tr>\n",
       "      <th>q11</th>\n",
       "      <td>How does the idea of being slapped hard in the...</td>\n",
       "      <td>Horrified</td>\n",
       "      <td>Aroused</td>\n",
       "      <td>Nostalgic</td>\n",
       "      <td>Indifferent</td>\n",
       "      <td>28860</td>\n",
       "      <td>N</td>\n",
       "      <td>NaN</td>\n",
       "      <td>sex/intimacy</td>\n",
       "      <td>0.0</td>\n",
       "      <td>1.0</td>\n",
       "      <td>0.0</td>\n",
       "      <td>0.0</td>\n",
       "      <td>0.0</td>\n",
       "      <td>0.0</td>\n",
       "      <td>0.0</td>\n",
       "      <td>0.0</td>\n",
       "      <td>0.0</td>\n",
       "    </tr>\n",
       "    <tr>\n",
       "      <th>q12</th>\n",
       "      <td>Divide your age by 2.  Have you had sex with a...</td>\n",
       "      <td>Yes</td>\n",
       "      <td>No</td>\n",
       "      <td>NaN</td>\n",
       "      <td>NaN</td>\n",
       "      <td>22496</td>\n",
       "      <td>O</td>\n",
       "      <td>NaN</td>\n",
       "      <td>sex/intimacy</td>\n",
       "      <td>0.0</td>\n",
       "      <td>1.0</td>\n",
       "      <td>0.0</td>\n",
       "      <td>0.0</td>\n",
       "      <td>0.0</td>\n",
       "      <td>0.0</td>\n",
       "      <td>0.0</td>\n",
       "      <td>0.0</td>\n",
       "      <td>0.0</td>\n",
       "    </tr>\n",
       "    <tr>\n",
       "      <th>q13</th>\n",
       "      <td>Is a girl who's slept with 100 guys a bad person?</td>\n",
       "      <td>Yes</td>\n",
       "      <td>No</td>\n",
       "      <td>NaN</td>\n",
       "      <td>NaN</td>\n",
       "      <td>32581</td>\n",
       "      <td>O</td>\n",
       "      <td>NaN</td>\n",
       "      <td>sex/intimacy</td>\n",
       "      <td>0.0</td>\n",
       "      <td>1.0</td>\n",
       "      <td>0.0</td>\n",
       "      <td>0.0</td>\n",
       "      <td>0.0</td>\n",
       "      <td>0.0</td>\n",
       "      <td>0.0</td>\n",
       "      <td>0.0</td>\n",
       "      <td>0.0</td>\n",
       "    </tr>\n",
       "    <tr>\n",
       "      <th>q14</th>\n",
       "      <td>Is a guy who's slept with 100 girls a bad person?</td>\n",
       "      <td>Yes</td>\n",
       "      <td>No</td>\n",
       "      <td>NaN</td>\n",
       "      <td>NaN</td>\n",
       "      <td>31127</td>\n",
       "      <td>O</td>\n",
       "      <td>NaN</td>\n",
       "      <td>sex/intimacy</td>\n",
       "      <td>0.0</td>\n",
       "      <td>1.0</td>\n",
       "      <td>0.0</td>\n",
       "      <td>0.0</td>\n",
       "      <td>0.0</td>\n",
       "      <td>0.0</td>\n",
       "      <td>0.0</td>\n",
       "      <td>0.0</td>\n",
       "      <td>0.0</td>\n",
       "    </tr>\n",
       "  </tbody>\n",
       "</table>\n",
       "</div>"
      ]
     },
     "metadata": {},
     "output_type": "display_data"
    }
   ],
   "execution_count": 6
  },
  {
   "metadata": {
    "ExecuteTime": {
     "end_time": "2025-03-13T12:46:56.472760Z",
     "start_time": "2025-03-13T12:46:56.282979Z"
    }
   },
   "cell_type": "code",
   "source": [
    "sums = df_questions[list(all_keywords)].sum()\n",
    "\n",
    "labels = [col.replace(\"_\", \"\\n\") for col in sums.index]\n",
    "\n",
    "plt.bar(labels, sums.values)\n",
    "\n",
    "plt.xticks(rotation=90, ha='center', multialignment='center')\n",
    "# Plot histogram\n",
    "plt.bar(sums.index, sums.values)\n",
    "plt.xlabel('Columns')\n",
    "plt.ylabel('Sum of Values')\n",
    "plt.title('Histogram of Column Sums')\n",
    "plt.show()"
   ],
   "id": "51981ef12dadc06c",
   "outputs": [
    {
     "data": {
      "text/plain": [
       "<Figure size 640x480 with 1 Axes>"
      ],
      "image/png": "[encoded data removed]"
     },
     "metadata": {},
     "output_type": "display_data"
    }
   ],
   "execution_count": 7
  },
  {
   "metadata": {
    "ExecuteTime": {
     "end_time": "2025-03-13T12:46:56.504012Z",
     "start_time": "2025-03-13T12:46:56.488438Z"
    }
   },
   "cell_type": "code",
   "source": "descriptive_cols = df_questions[df_questions['descriptive']==1]",
   "id": "6724321275212b11",
   "outputs": [],
   "execution_count": 8
  },
  {
   "metadata": {
    "ExecuteTime": {
     "end_time": "2025-03-13T12:46:56.544376Z",
     "start_time": "2025-03-13T12:46:56.519667Z"
    }
   },
   "cell_type": "code",
   "source": [
    "import pickle\n",
    "import os\n",
    "\n",
    "for k in all_keywords:\n",
    "    k_list = df_questions[df_questions[k]==1].index.tolist()\n",
    "    file_path = os.path.join(\"..\", \"outputs\", f'{k}_cols_index.pkl'.replace(\"/\", \"_\").replace(\"\\\\\", \"_\"))\n",
    "\n",
    "    # Save the list as a .pkl file\n",
    "    with open(file_path, 'wb') as f:\n",
    "        pickle.dump(k_list, f)\n"
   ],
   "id": "a62bedd3e012d93f",
   "outputs": [],
   "execution_count": 9
  },
  {
   "metadata": {
    "ExecuteTime": {
     "end_time": "2025-03-13T12:46:56.575636Z",
     "start_time": "2025-03-13T12:46:56.560119Z"
    }
   },
   "cell_type": "code",
   "source": "",
   "id": "98d56e5ccbfd7e91",
   "outputs": [],
   "execution_count": null
  }
 ],
 "metadata": {
  "kernelspec": {
   "display_name": "Python 3",
   "language": "python",
   "name": "python3"
  },
  "language_info": {
   "codemirror_mode": {
    "name": "ipython",
    "version": 2
   },
   "file_extension": ".py",
   "mimetype": "text/x-python",
   "name": "python",
   "nbconvert_exporter": "python",
   "pygments_lexer": "ipython2",
   "version": "2.7.6"
  }
 },
 "nbformat": 4,
 "nbformat_minor": 5
}
